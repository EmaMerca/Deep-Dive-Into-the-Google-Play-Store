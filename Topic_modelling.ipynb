{
 "cells": [
  {
   "cell_type": "markdown",
   "metadata": {
    "id": "e0NCa3Dg_gmx"
   },
   "source": [
    "# imports and functions"
   ]
  },
  {
   "cell_type": "code",
   "execution_count": 5,
   "metadata": {
    "colab": {
     "base_uri": "https://localhost:8080/"
    },
    "id": "Kdr4gRCF4tzW",
    "outputId": "4447eeed-ffd7-4817-8973-45c3edc761f8"
   },
   "outputs": [],
   "source": [
    "import sys\n",
    "import os\n",
    "#%cd /content/drive/My Drive/Full stack data school/progetto\n",
    "!pip install gensim -q\n",
    "!pip install nltk -q"
   ]
  },
  {
   "cell_type": "code",
   "execution_count": 6,
   "metadata": {
    "colab": {
     "base_uri": "https://localhost:8080/"
    },
    "id": "kA4vPp2X416o",
    "outputId": "37a7774e-877f-4b84-af96-978081f3d3e8"
   },
   "outputs": [
    {
     "name": "stderr",
     "output_type": "stream",
     "text": [
      "[nltk_data] Downloading package wordnet to /Users/Debora/nltk_data...\n",
      "[nltk_data]   Unzipping corpora/wordnet.zip.\n"
     ]
    }
   ],
   "source": [
    "import pandas as pd\n",
    "import numpy as np\n",
    "import pickle \n",
    "import gensim\n",
    "from gensim.utils import simple_preprocess\n",
    "from gensim.parsing.preprocessing import STOPWORDS\n",
    "from nltk.stem import WordNetLemmatizer, SnowballStemmer\n",
    "from nltk.stem.porter import *\n",
    "\n",
    "import warnings\n",
    "warnings.filterwarnings(\"ignore\")\n",
    "\n",
    "import nltk\n",
    "nltk.download('wordnet')\n",
    "\n",
    "stemmer = SnowballStemmer(\"english\")"
   ]
  },
  {
   "cell_type": "code",
   "execution_count": null,
   "metadata": {
    "id": "8czcjZUt5KDM"
   },
   "outputs": [],
   "source": [
    "def lemmatize_stemming(text):\n",
    "    return stemmer.stem(WordNetLemmatizer().lemmatize(text, pos='v'))\n",
    "\n",
    "# Tokenize and lemmatize\n",
    "def preprocess(text):\n",
    "    result=[]\n",
    "    for token in gensim.utils.simple_preprocess(text) :\n",
    "        if token not in gensim.parsing.preprocessing.STOPWORDS and len(token) > 3:\n",
    "            result.append(lemmatize_stemming(token))           \n",
    "    return result\n",
    "\n",
    "# poreprocess to train a new lda model\n",
    "def lda_preprocess_train_new_model(preprocessed_list_of_strings, no_below = 50, no_above = 1, keep_n = 400):\n",
    "  dictionary = gensim.corpora.Dictionary(preprocessed_list_of_strings)\n",
    "  dictionary.filter_extremes(no_below = no_below, no_above = no_above, keep_n = keep_n)\n",
    "  bow_corpus = [dictionary.doc2bow(el) for el in preprocessed_list_of_strings]\n",
    "  return bow_corpus, dictionary"
   ]
  },
  {
   "cell_type": "markdown",
   "metadata": {
    "id": "8lEhMw9g_jcC"
   },
   "source": [
    "# load data"
   ]
  },
  {
   "cell_type": "code",
   "execution_count": null,
   "metadata": {
    "id": "4wAel6nU5A5V"
   },
   "outputs": [],
   "source": [
    "# load googleplaystore_user_reviews.csv\n",
    "df = pd.read_csv('DATA/raw/googleplaystore_user_reviews.csv')\n",
    "df = df.dropna()\n",
    "\n",
    "# load apps_dataset.csv\n",
    "apps = pd.read_csv('DATA/pre-processed/clean_app_data.csv')"
   ]
  },
  {
   "cell_type": "markdown",
   "metadata": {
    "id": "zrADVQoA5UUd"
   },
   "source": [
    "# train new model"
   ]
  },
  {
   "cell_type": "code",
   "execution_count": null,
   "metadata": {
    "id": "hM5dYV605MrM"
   },
   "outputs": [],
   "source": [
    "# filter the dataset according to your criteria\n",
    "filtered_df = df[df['Sentiment'] == 'Negative']\n",
    "\n",
    "clean_text = filtered_df.Translated_Review.apply(preprocess)\n",
    "bow_corpus, dictionary = lda_preprocess_train_new_model(clean_text)"
   ]
  },
  {
   "cell_type": "code",
   "execution_count": null,
   "metadata": {
    "id": "e_lQAcGR5TTm"
   },
   "outputs": [],
   "source": [
    "########### train model ###############\n",
    "\n",
    "lda_model =  gensim.models.LdaMulticore(bow_corpus, \n",
    "                                        num_topics = 5, \n",
    "                                        id2word = dictionary,                                    \n",
    "                                        passes = 10)\n",
    "\n",
    "for idx, topic in lda_model.print_topics(-1):\n",
    "    print(\"Topic: {} \\nWords: {}\".format(idx, topic ))\n",
    "    print(\"\\n\")"
   ]
  },
  {
   "cell_type": "code",
   "execution_count": null,
   "metadata": {
    "id": "jJiFsfD59i1r"
   },
   "outputs": [],
   "source": [
    "########## save model ############\n",
    "\n",
    "# with open('new_model.model', 'wb') as f: \n",
    "#     pickle.dump(lda_model, f)\n",
    "\n",
    "# with open('dictionary.model', 'wb') as f: \n",
    "#     pickle.dump(dictionary, f)"
   ]
  },
  {
   "cell_type": "markdown",
   "metadata": {
    "id": "O1HfMLIJ5pL2"
   },
   "source": [
    "# use trained model"
   ]
  },
  {
   "cell_type": "code",
   "execution_count": null,
   "metadata": {
    "id": "aYh6_sWU5rsB"
   },
   "outputs": [],
   "source": [
    "with open('lda_topics.model', 'rb') as f: \n",
    "    model = pickle.load(f)\n",
    "  \n",
    "with open('lda_dictionary.model', 'rb') as f: \n",
    "    lda_dictionary = pickle.load(f)\n",
    "\n",
    "with open('topics_dict.model', 'rb') as f:\n",
    "  topics_dict = pickle.load(f)\n",
    "\n",
    "# topic 0: booking problems, customer service useless\n",
    "# topic 1: UI problems, app not responsive, slow\n",
    "# topic 2: in-app purchase necessary to play the game\n",
    "# topic 3: account connection problem (google account?)\n",
    "# topic 4: update problems"
   ]
  },
  {
   "cell_type": "code",
   "execution_count": null,
   "metadata": {
    "colab": {
     "base_uri": "https://localhost:8080/"
    },
    "id": "XoVxvDW05ruI",
    "outputId": "29436ca0-95f2-43be-da86-915a194e8c35"
   },
   "outputs": [
    {
     "name": "stdout",
     "output_type": "stream",
     "text": [
      "Score: 0.46366870403289795\t Topic: booking problems, customer service problems\n",
      "Score: 0.3845175504684448\t Topic: UI problems, app not responsive\n",
      "Score: 0.05170731619000435\t Topic: update and version problems\n",
      "Score: 0.05007593706250191\t Topic: in-app purchase necessary to play the game, bad game experience\n",
      "Score: 0.05003046244382858\t Topic: account connection problems\n"
     ]
    }
   ],
   "source": [
    "unseen = 'This is a review, booking the accomodation was fake.'\n",
    "\n",
    "bow_vector = lda_dictionary.doc2bow(preprocess(unseen))\n",
    "\n",
    "for index, score in sorted(model[bow_vector], key=lambda tup: -1*tup[1]):\n",
    "    print(\"Score: {}\\t Topic: {}\".format(score, topics_dict[model.print_topic(index, 5)]))"
   ]
  },
  {
   "cell_type": "markdown",
   "metadata": {
    "id": "qE1BuQMYAN0Z"
   },
   "source": [
    "# additional analysis"
   ]
  },
  {
   "cell_type": "code",
   "execution_count": null,
   "metadata": {
    "id": "krjCu5NKAc16"
   },
   "outputs": [],
   "source": [
    "apps_category = dict(zip(apps.App.tolist(), apps.Category.tolist()))\n",
    "\n",
    "def get_category(apps_category, app):\n",
    "  try:\n",
    "    return apps_category[app]\n",
    "  except KeyError:\n",
    "    return 'unknown'\n",
    "\n",
    "df['Category'] = df.App.apply(lambda x: get_category(apps_category, x))"
   ]
  },
  {
   "cell_type": "code",
   "execution_count": null,
   "metadata": {
    "id": "5bkh9KGIBj3I"
   },
   "outputs": [],
   "source": [
    "# using trained model\n",
    "def get_label(lda_dictionary, model, topics_dict, string):\n",
    "  bow_vector = lda_dictionary.doc2bow(preprocess(string))\n",
    "  topic = []\n",
    "  for index, score in sorted(model[bow_vector], key=lambda tup: -1*tup[1]):\n",
    "    topic.append(topics_dict[model.print_topic(index, 5)])\n",
    "  return topic[0]\n",
    "\n",
    "def get_score(lda_dictionary, model, topics_dict, string):\n",
    "  bow_vector = lda_dictionary.doc2bow(preprocess(string))\n",
    "  scores = []\n",
    "  for index, score in sorted(model[bow_vector], key=lambda tup: -1*tup[1]):\n",
    "    scores.append(score)\n",
    "  return scores[0]\n",
    "\n",
    "\n",
    "def insight(df, category, sentiment_polarity, lda_dictionary, model, topics_dict):\n",
    "  # bad_apps = df[ (df.Category == category) & (df.Sentiment_Polarity <= sentiment_polarity) ] # filtro \n",
    "  bad_apps = df[(df.Sentiment_Polarity <= sentiment_polarity) ]\n",
    "  bad_apps['topic_score'] = bad_apps.Translated_Review.apply(lambda x: get_score(lda_dictionary, model, topics_dict, x))\n",
    "  bad_apps['topic_label'] = bad_apps.Translated_Review.apply(lambda x: get_label(lda_dictionary, model, topics_dict, x))\n",
    "  # print(bad_apps)\n",
    "  return pd.DataFrame(bad_apps.groupby('App').topic_label.value_counts()).rename(columns = {'topic_label': 'Total'})\n",
    "\n",
    "# filter data as you want, only taking negative reviews, not neutrale reviews\n",
    "# bad_games = df[(df.Category == 'tools') & (df.Sentiment_Polarity <= -0.1)]\n",
    "\n",
    "\n",
    "# bad_games['topic_score'] = bad_games.Translated_Review.apply(lambda x: get_score(lda_dictionary, model, topics_dict, x))\n",
    "# bad_games['topic_label'] = bad_games.Translated_Review.apply(lambda x: get_label(lda_dictionary, model, topics_dict, x))\n",
    "\n",
    "# use your dataframe instead of bad_game\n",
    "# results = pd.DataFrame(bad_games.groupby('App').topic_label.value_counts()).rename(columns = {'topic_label': 'Total'})\n",
    "# results.head(10)"
   ]
  },
  {
   "cell_type": "code",
   "execution_count": null,
   "metadata": {
    "id": "AzQDQW0_Glvf"
   },
   "outputs": [],
   "source": [
    "bad_apps_dict = dict()\n",
    "categories = apps.Category.value_counts().index.tolist()[:6]\n",
    "print(categories)\n",
    "for el in categories:\n",
    "  bad_apps_dict[el] = insight(df = df, \n",
    "                             category = el, \n",
    "                             sentiment_polarity = -0.1,\n",
    "                             lda_dictionary = lda_dictionary,\n",
    "                             model = model,\n",
    "                             topics_dict = topics_dict)\n",
    "  display(bad_apps_dict[el])"
   ]
  },
  {
   "cell_type": "code",
   "execution_count": null,
   "metadata": {
    "id": "m6499ynTMr4c"
   },
   "outputs": [],
   "source": [
    "for category, val in bad_apps_dict.items():\n",
    "  print(category)\n",
    "  display(val.groupby(by = 'topic_label').sum())\n",
    "  print('\\n')\n"
   ]
  },
  {
   "cell_type": "markdown",
   "metadata": {
    "id": "42p4QVGFC51k"
   },
   "source": [
    "# case study Vogue"
   ]
  },
  {
   "cell_type": "code",
   "execution_count": null,
   "metadata": {
    "id": "xLOYXqexC51k"
   },
   "outputs": [],
   "source": [
    "all_temp  = insight(df = df, \n",
    "        category = el, \n",
    "        sentiment_polarity = -0.1,\n",
    "        lda_dictionary = lda_dictionary,\n",
    "        model = model,\n",
    "        topics_dict = topics_dict)"
   ]
  },
  {
   "cell_type": "code",
   "execution_count": null,
   "metadata": {
    "colab": {
     "base_uri": "https://localhost:8080/",
     "height": 395
    },
    "id": "GZEvdTanC51k",
    "outputId": "016a2c43-80c0-44c3-b795-d1d34e46cca5"
   },
   "outputs": [
    {
     "data": {
      "text/html": [
       "<div>\n",
       "<style scoped>\n",
       "    .dataframe tbody tr th:only-of-type {\n",
       "        vertical-align: middle;\n",
       "    }\n",
       "\n",
       "    .dataframe tbody tr th {\n",
       "        vertical-align: top;\n",
       "    }\n",
       "\n",
       "    .dataframe thead th {\n",
       "        text-align: right;\n",
       "    }\n",
       "</style>\n",
       "<table border=\"1\" class=\"dataframe\">\n",
       "  <thead>\n",
       "    <tr style=\"text-align: right;\">\n",
       "      <th></th>\n",
       "      <th></th>\n",
       "      <th>Total</th>\n",
       "    </tr>\n",
       "    <tr>\n",
       "      <th>App</th>\n",
       "      <th>topic_label</th>\n",
       "      <th></th>\n",
       "    </tr>\n",
       "  </thead>\n",
       "  <tbody>\n",
       "    <tr>\n",
       "      <th rowspan=\"3\" valign=\"top\">10 Best Foods for You</th>\n",
       "      <th>UI problems, app not responsive</th>\n",
       "      <td>6</td>\n",
       "    </tr>\n",
       "    <tr>\n",
       "      <th>booking problems, customer service problems</th>\n",
       "      <td>2</td>\n",
       "    </tr>\n",
       "    <tr>\n",
       "      <th>update and version problems</th>\n",
       "      <td>2</td>\n",
       "    </tr>\n",
       "    <tr>\n",
       "      <th>104 找工作 - 找工作 找打工 找兼職 履歷健檢 履歷診療室</th>\n",
       "      <th>UI problems, app not responsive</th>\n",
       "      <td>1</td>\n",
       "    </tr>\n",
       "    <tr>\n",
       "      <th rowspan=\"3\" valign=\"top\">11st</th>\n",
       "      <th>booking problems, customer service problems</th>\n",
       "      <td>2</td>\n",
       "    </tr>\n",
       "    <tr>\n",
       "      <th>update and version problems</th>\n",
       "      <td>2</td>\n",
       "    </tr>\n",
       "    <tr>\n",
       "      <th>UI problems, app not responsive</th>\n",
       "      <td>1</td>\n",
       "    </tr>\n",
       "    <tr>\n",
       "      <th rowspan=\"2\" valign=\"top\">1800 Contacts - Lens Store</th>\n",
       "      <th>booking problems, customer service problems</th>\n",
       "      <td>4</td>\n",
       "    </tr>\n",
       "    <tr>\n",
       "      <th>in-app purchase necessary to play the game, bad game experience</th>\n",
       "      <td>2</td>\n",
       "    </tr>\n",
       "    <tr>\n",
       "      <th>1LINE – One Line with One Touch</th>\n",
       "      <th>in-app purchase necessary to play the game, bad game experience</th>\n",
       "      <td>6</td>\n",
       "    </tr>\n",
       "  </tbody>\n",
       "</table>\n",
       "</div>"
      ],
      "text/plain": [
       "                                                                                     Total\n",
       "App                              topic_label                                              \n",
       "10 Best Foods for You            UI problems, app not responsive                         6\n",
       "                                 booking problems, customer service problems             2\n",
       "                                 update and version problems                             2\n",
       "104 找工作 - 找工作 找打工 找兼職 履歷健檢 履歷診療室 UI problems, app not responsive                         1\n",
       "11st                             booking problems, customer service problems             2\n",
       "                                 update and version problems                             2\n",
       "                                 UI problems, app not responsive                         1\n",
       "1800 Contacts - Lens Store       booking problems, customer service problems             4\n",
       "                                 in-app purchase necessary to play the game, bad...      2\n",
       "1LINE – One Line with One Touch  in-app purchase necessary to play the game, bad...      6"
      ]
     },
     "execution_count": 53,
     "metadata": {
      "tags": []
     },
     "output_type": "execute_result"
    }
   ],
   "source": [
    "all_temp.head(10)"
   ]
  },
  {
   "cell_type": "code",
   "execution_count": null,
   "metadata": {
    "id": "wEClyEvSC51m"
   },
   "outputs": [],
   "source": [
    "temp = np.array(all_temp.index.tolist())"
   ]
  },
  {
   "cell_type": "code",
   "execution_count": null,
   "metadata": {
    "colab": {
     "base_uri": "https://localhost:8080/"
    },
    "id": "biv1p3qAC51m",
    "outputId": "041eb5e5-74e9-44cd-96e4-b7056dbb4357"
   },
   "outputs": [
    {
     "data": {
      "text/plain": [
       "1942"
      ]
     },
     "execution_count": 44,
     "metadata": {
      "tags": []
     },
     "output_type": "execute_result"
    }
   ],
   "source": [
    "len(all_temp.values)"
   ]
  },
  {
   "cell_type": "code",
   "execution_count": null,
   "metadata": {
    "id": "ibYao9NYC51m"
   },
   "outputs": [],
   "source": [
    "all = pd.DataFrame()\n",
    "all['app'] = temp[:, 0]\n",
    "all['topic'] = temp[:, 1]\n",
    "all['total'] = all_temp.values"
   ]
  },
  {
   "cell_type": "code",
   "execution_count": null,
   "metadata": {
    "colab": {
     "base_uri": "https://localhost:8080/",
     "height": 520
    },
    "id": "JBdVbCW5C51m",
    "outputId": "0f98c32c-5481-4898-ca41-bf384823079a"
   },
   "outputs": [
    {
     "data": {
      "text/html": [
       "<div>\n",
       "<style scoped>\n",
       "    .dataframe tbody tr th:only-of-type {\n",
       "        vertical-align: middle;\n",
       "    }\n",
       "\n",
       "    .dataframe tbody tr th {\n",
       "        vertical-align: top;\n",
       "    }\n",
       "\n",
       "    .dataframe thead th {\n",
       "        text-align: right;\n",
       "    }\n",
       "</style>\n",
       "<table border=\"1\" class=\"dataframe\">\n",
       "  <thead>\n",
       "    <tr style=\"text-align: right;\">\n",
       "      <th></th>\n",
       "      <th>app</th>\n",
       "      <th>topic</th>\n",
       "      <th>total</th>\n",
       "    </tr>\n",
       "  </thead>\n",
       "  <tbody>\n",
       "    <tr>\n",
       "      <th>1486</th>\n",
       "      <td>Free Foreclosure Real Estate Search by USHUD.com</td>\n",
       "      <td>UI problems, app not responsive</td>\n",
       "      <td>9</td>\n",
       "    </tr>\n",
       "    <tr>\n",
       "      <th>668</th>\n",
       "      <td>CBS Sports App - Scores, News, Stats &amp; Watch Live</td>\n",
       "      <td>UI problems, app not responsive</td>\n",
       "      <td>9</td>\n",
       "    </tr>\n",
       "    <tr>\n",
       "      <th>868</th>\n",
       "      <td>Colorfy: Coloring Book for Adults - Free</td>\n",
       "      <td>UI problems, app not responsive</td>\n",
       "      <td>10</td>\n",
       "    </tr>\n",
       "    <tr>\n",
       "      <th>1511</th>\n",
       "      <td>FreshBooks Classic</td>\n",
       "      <td>UI problems, app not responsive</td>\n",
       "      <td>10</td>\n",
       "    </tr>\n",
       "    <tr>\n",
       "      <th>1428</th>\n",
       "      <td>Fly Delta</td>\n",
       "      <td>UI problems, app not responsive</td>\n",
       "      <td>10</td>\n",
       "    </tr>\n",
       "    <tr>\n",
       "      <th>270</th>\n",
       "      <td>Apartments.com Rental Search</td>\n",
       "      <td>UI problems, app not responsive</td>\n",
       "      <td>10</td>\n",
       "    </tr>\n",
       "    <tr>\n",
       "      <th>1679</th>\n",
       "      <td>Google PDF Viewer</td>\n",
       "      <td>UI problems, app not responsive</td>\n",
       "      <td>11</td>\n",
       "    </tr>\n",
       "    <tr>\n",
       "      <th>490</th>\n",
       "      <td>Be A Legend: Soccer</td>\n",
       "      <td>UI problems, app not responsive</td>\n",
       "      <td>11</td>\n",
       "    </tr>\n",
       "    <tr>\n",
       "      <th>55</th>\n",
       "      <td>ABC News - US &amp; World News</td>\n",
       "      <td>UI problems, app not responsive</td>\n",
       "      <td>11</td>\n",
       "    </tr>\n",
       "    <tr>\n",
       "      <th>1476</th>\n",
       "      <td>Free Dating App - Meet Local Singles - Flirt Chat</td>\n",
       "      <td>UI problems, app not responsive</td>\n",
       "      <td>14</td>\n",
       "    </tr>\n",
       "    <tr>\n",
       "      <th>1344</th>\n",
       "      <td>Fashion in Vogue</td>\n",
       "      <td>UI problems, app not responsive</td>\n",
       "      <td>15</td>\n",
       "    </tr>\n",
       "    <tr>\n",
       "      <th>1270</th>\n",
       "      <td>FOX NOW - On Demand &amp; Live TV</td>\n",
       "      <td>UI problems, app not responsive</td>\n",
       "      <td>15</td>\n",
       "    </tr>\n",
       "    <tr>\n",
       "      <th>1463</th>\n",
       "      <td>Fox News – Breaking News, Live Video &amp; News Al...</td>\n",
       "      <td>UI problems, app not responsive</td>\n",
       "      <td>16</td>\n",
       "    </tr>\n",
       "    <tr>\n",
       "      <th>1234</th>\n",
       "      <td>Expedia Hotels, Flights &amp; Car Rental Travel Deals</td>\n",
       "      <td>UI problems, app not responsive</td>\n",
       "      <td>19</td>\n",
       "    </tr>\n",
       "    <tr>\n",
       "      <th>686</th>\n",
       "      <td>CNN Breaking US &amp; World News</td>\n",
       "      <td>UI problems, app not responsive</td>\n",
       "      <td>24</td>\n",
       "    </tr>\n",
       "  </tbody>\n",
       "</table>\n",
       "</div>"
      ],
      "text/plain": [
       "                                                    app  ... total\n",
       "1486   Free Foreclosure Real Estate Search by USHUD.com  ...     9\n",
       "668   CBS Sports App - Scores, News, Stats & Watch Live  ...     9\n",
       "868            Colorfy: Coloring Book for Adults - Free  ...    10\n",
       "1511                                 FreshBooks Classic  ...    10\n",
       "1428                                          Fly Delta  ...    10\n",
       "270                        Apartments.com Rental Search  ...    10\n",
       "1679                                  Google PDF Viewer  ...    11\n",
       "490                                 Be A Legend: Soccer  ...    11\n",
       "55                           ABC News - US & World News  ...    11\n",
       "1476  Free Dating App - Meet Local Singles - Flirt Chat  ...    14\n",
       "1344                                   Fashion in Vogue  ...    15\n",
       "1270                      FOX NOW - On Demand & Live TV  ...    15\n",
       "1463  Fox News – Breaking News, Live Video & News Al...  ...    16\n",
       "1234  Expedia Hotels, Flights & Car Rental Travel Deals  ...    19\n",
       "686                        CNN Breaking US & World News  ...    24\n",
       "\n",
       "[15 rows x 3 columns]"
      ]
     },
     "execution_count": 166,
     "metadata": {
      "tags": []
     },
     "output_type": "execute_result"
    }
   ],
   "source": [
    "all[all.topic == 'UI problems, app not responsive'].sort_values(by = 'total').tail(15)\n",
    "# the app Block Puzzle has 40 reports of the in-app purchase problems"
   ]
  },
  {
   "cell_type": "code",
   "execution_count": null,
   "metadata": {
    "colab": {
     "base_uri": "https://localhost:8080/",
     "height": 81
    },
    "id": "DatJrpDxC51m",
    "outputId": "a5602eea-853d-4bfa-f066-7d75df532503"
   },
   "outputs": [
    {
     "data": {
      "text/html": [
       "<div>\n",
       "<style scoped>\n",
       "    .dataframe tbody tr th:only-of-type {\n",
       "        vertical-align: middle;\n",
       "    }\n",
       "\n",
       "    .dataframe tbody tr th {\n",
       "        vertical-align: top;\n",
       "    }\n",
       "\n",
       "    .dataframe thead th {\n",
       "        text-align: right;\n",
       "    }\n",
       "</style>\n",
       "<table border=\"1\" class=\"dataframe\">\n",
       "  <thead>\n",
       "    <tr style=\"text-align: right;\">\n",
       "      <th></th>\n",
       "      <th>App</th>\n",
       "      <th>Category</th>\n",
       "      <th>Rating</th>\n",
       "      <th>Reviews</th>\n",
       "      <th>Size</th>\n",
       "      <th>Installs</th>\n",
       "      <th>Type</th>\n",
       "      <th>Price</th>\n",
       "      <th>Content Rating</th>\n",
       "      <th>Genres</th>\n",
       "      <th>Last Updated</th>\n",
       "      <th>Current Ver</th>\n",
       "      <th>Android Ver</th>\n",
       "    </tr>\n",
       "  </thead>\n",
       "  <tbody>\n",
       "    <tr>\n",
       "      <th>1316</th>\n",
       "      <td>Fashion in Vogue</td>\n",
       "      <td>lifestyle</td>\n",
       "      <td>3.8</td>\n",
       "      <td>1797</td>\n",
       "      <td>6.8</td>\n",
       "      <td>100000.0</td>\n",
       "      <td>Free</td>\n",
       "      <td>0.0</td>\n",
       "      <td>Everyone</td>\n",
       "      <td>lifestyle</td>\n",
       "      <td>2016-09-27</td>\n",
       "      <td>20.0</td>\n",
       "      <td>43.0</td>\n",
       "    </tr>\n",
       "  </tbody>\n",
       "</table>\n",
       "</div>"
      ],
      "text/plain": [
       "                   App   Category  ...  Current Ver  Android Ver\n",
       "1316  Fashion in Vogue  lifestyle  ...         20.0         43.0\n",
       "\n",
       "[1 rows x 13 columns]"
      ]
     },
     "execution_count": 165,
     "metadata": {
      "tags": []
     },
     "output_type": "execute_result"
    }
   ],
   "source": [
    "app = 'Fashion in Vogue' \n",
    "apps[apps.App == app]"
   ]
  },
  {
   "cell_type": "code",
   "execution_count": null,
   "metadata": {
    "colab": {
     "base_uri": "https://localhost:8080/"
    },
    "id": "Dszw3riOC51m",
    "outputId": "d2967068-f129-4d33-be37-fc842209abc4"
   },
   "outputs": [
    {
     "data": {
      "text/plain": [
       "array([1797])"
      ]
     },
     "execution_count": 167,
     "metadata": {
      "tags": []
     },
     "output_type": "execute_result"
    }
   ],
   "source": [
    "apps[apps.App == app].Reviews.values"
   ]
  },
  {
   "cell_type": "code",
   "execution_count": null,
   "metadata": {
    "id": "vrK3JRovC51n"
   },
   "outputs": [],
   "source": [
    "# % of negative reviews which are due to in-app purchase necessary to play the game, ba...\n",
    "bad_ux = all[(all.app == app) & (all.topic =='UI problems, app not responsive')].total.values/df[df.App == app].Sentiment.value_counts()[1]"
   ]
  },
  {
   "cell_type": "code",
   "execution_count": null,
   "metadata": {
    "id": "I5OLypXzC51n"
   },
   "outputs": [],
   "source": [
    "all_pos_neg_reviews = df[df.App == app].Sentiment.value_counts()/len(df[df.App == app])"
   ]
  },
  {
   "cell_type": "code",
   "execution_count": null,
   "metadata": {
    "colab": {
     "base_uri": "https://localhost:8080/"
    },
    "id": "CsE0Kt4UC51n",
    "outputId": "1ce7639a-ac9a-45f4-b214-149c9003a15a"
   },
   "outputs": [
    {
     "name": "stdout",
     "output_type": "stream",
     "text": [
      " estimated reached users 13274\n"
     ]
    }
   ],
   "source": [
    "print(f' estimated reached users', int(all_pos_neg_reviews[1]*apps[apps.App == app].Installs.values*bad_ux) )"
   ]
  },
  {
   "cell_type": "code",
   "execution_count": null,
   "metadata": {
    "colab": {
     "base_uri": "https://localhost:8080/"
    },
    "id": "zHH1pu7FC51n",
    "outputId": "3bd0c0f0-88f7-4a34-d116-e55a86b1e629"
   },
   "outputs": [
    {
     "name": "stdout",
     "output_type": "stream",
     "text": [
      " users complaining for any reason 30.97%  which is 13.27% of the total \n",
      "\n",
      "\n",
      "there are 2 vogue apps (germany, italy) with 100.000+ downloads and 7 vogue apps(spain, uk, russia, france, india, greece+australia, poland) with 10.000+ downloads\n",
      " for a total of 270000+ downloads, which will give us 35829.0\n"
     ]
    }
   ],
   "source": [
    "print(f' users complaining for any reason {round(all_pos_neg_reviews[1]*100, 2)}%',\n",
    "      f' which is {round(bad_ux[0]*all_pos_neg_reviews[1]*100, 2)}% of the total \\n\\n' )\n",
    "\n",
    "tot_vogue_downloads = 100000*2 + 10000*7\n",
    "print(f'there are 2 vogue apps (germany, italy) with 100.000+ downloads and 7 vogue apps(spain, uk, russia, france, india, greece+australia, poland) with 10.000+ downloads\\n \\\n",
    "for a total of {tot_vogue_downloads}+ downloads, which will give us {round(tot_vogue_downloads*0.1327, 2)}')"
   ]
  },
  {
   "cell_type": "markdown",
   "metadata": {
    "id": "gU4vCIg-C2cI"
   },
   "source": [
    "# case study agar.io"
   ]
  },
  {
   "cell_type": "code",
   "execution_count": null,
   "metadata": {
    "id": "HL2lTtpkz9xT"
   },
   "outputs": [],
   "source": [
    "all_temp  = insight(df = df, \n",
    "        category = el, \n",
    "        sentiment_polarity = -0.1,\n",
    "        lda_dictionary = lda_dictionary,\n",
    "        model = model,\n",
    "        topics_dict = topics_dict)"
   ]
  },
  {
   "cell_type": "code",
   "execution_count": null,
   "metadata": {
    "colab": {
     "base_uri": "https://localhost:8080/",
     "height": 395
    },
    "id": "jZBCK7Nx2ByA",
    "outputId": "016a2c43-80c0-44c3-b795-d1d34e46cca5"
   },
   "outputs": [
    {
     "data": {
      "text/html": [
       "<div>\n",
       "<style scoped>\n",
       "    .dataframe tbody tr th:only-of-type {\n",
       "        vertical-align: middle;\n",
       "    }\n",
       "\n",
       "    .dataframe tbody tr th {\n",
       "        vertical-align: top;\n",
       "    }\n",
       "\n",
       "    .dataframe thead th {\n",
       "        text-align: right;\n",
       "    }\n",
       "</style>\n",
       "<table border=\"1\" class=\"dataframe\">\n",
       "  <thead>\n",
       "    <tr style=\"text-align: right;\">\n",
       "      <th></th>\n",
       "      <th></th>\n",
       "      <th>Total</th>\n",
       "    </tr>\n",
       "    <tr>\n",
       "      <th>App</th>\n",
       "      <th>topic_label</th>\n",
       "      <th></th>\n",
       "    </tr>\n",
       "  </thead>\n",
       "  <tbody>\n",
       "    <tr>\n",
       "      <th rowspan=\"3\" valign=\"top\">10 Best Foods for You</th>\n",
       "      <th>UI problems, app not responsive</th>\n",
       "      <td>6</td>\n",
       "    </tr>\n",
       "    <tr>\n",
       "      <th>booking problems, customer service problems</th>\n",
       "      <td>2</td>\n",
       "    </tr>\n",
       "    <tr>\n",
       "      <th>update and version problems</th>\n",
       "      <td>2</td>\n",
       "    </tr>\n",
       "    <tr>\n",
       "      <th>104 找工作 - 找工作 找打工 找兼職 履歷健檢 履歷診療室</th>\n",
       "      <th>UI problems, app not responsive</th>\n",
       "      <td>1</td>\n",
       "    </tr>\n",
       "    <tr>\n",
       "      <th rowspan=\"3\" valign=\"top\">11st</th>\n",
       "      <th>booking problems, customer service problems</th>\n",
       "      <td>2</td>\n",
       "    </tr>\n",
       "    <tr>\n",
       "      <th>update and version problems</th>\n",
       "      <td>2</td>\n",
       "    </tr>\n",
       "    <tr>\n",
       "      <th>UI problems, app not responsive</th>\n",
       "      <td>1</td>\n",
       "    </tr>\n",
       "    <tr>\n",
       "      <th rowspan=\"2\" valign=\"top\">1800 Contacts - Lens Store</th>\n",
       "      <th>booking problems, customer service problems</th>\n",
       "      <td>4</td>\n",
       "    </tr>\n",
       "    <tr>\n",
       "      <th>in-app purchase necessary to play the game, bad game experience</th>\n",
       "      <td>2</td>\n",
       "    </tr>\n",
       "    <tr>\n",
       "      <th>1LINE – One Line with One Touch</th>\n",
       "      <th>in-app purchase necessary to play the game, bad game experience</th>\n",
       "      <td>6</td>\n",
       "    </tr>\n",
       "  </tbody>\n",
       "</table>\n",
       "</div>"
      ],
      "text/plain": [
       "                                                                                     Total\n",
       "App                              topic_label                                              \n",
       "10 Best Foods for You            UI problems, app not responsive                         6\n",
       "                                 booking problems, customer service problems             2\n",
       "                                 update and version problems                             2\n",
       "104 找工作 - 找工作 找打工 找兼職 履歷健檢 履歷診療室 UI problems, app not responsive                         1\n",
       "11st                             booking problems, customer service problems             2\n",
       "                                 update and version problems                             2\n",
       "                                 UI problems, app not responsive                         1\n",
       "1800 Contacts - Lens Store       booking problems, customer service problems             4\n",
       "                                 in-app purchase necessary to play the game, bad...      2\n",
       "1LINE – One Line with One Touch  in-app purchase necessary to play the game, bad...      6"
      ]
     },
     "execution_count": 53,
     "metadata": {
      "tags": []
     },
     "output_type": "execute_result"
    }
   ],
   "source": [
    "all_temp.head(10)"
   ]
  },
  {
   "cell_type": "code",
   "execution_count": null,
   "metadata": {
    "id": "de8NXCY_0i5c"
   },
   "outputs": [],
   "source": [
    "temp = np.array(all_temp.index.tolist())"
   ]
  },
  {
   "cell_type": "code",
   "execution_count": null,
   "metadata": {
    "colab": {
     "base_uri": "https://localhost:8080/"
    },
    "id": "g1ix2lE43JPd",
    "outputId": "041eb5e5-74e9-44cd-96e4-b7056dbb4357"
   },
   "outputs": [
    {
     "data": {
      "text/plain": [
       "1942"
      ]
     },
     "execution_count": 44,
     "metadata": {
      "tags": []
     },
     "output_type": "execute_result"
    }
   ],
   "source": [
    "len(all_temp.values)"
   ]
  },
  {
   "cell_type": "code",
   "execution_count": null,
   "metadata": {
    "id": "h2J1nNKB2mT1"
   },
   "outputs": [],
   "source": [
    "all = pd.DataFrame()\n",
    "all['app'] = temp[:, 0]\n",
    "all['topic'] = temp[:, 1]\n",
    "all['total'] = all_temp.values"
   ]
  },
  {
   "cell_type": "code",
   "execution_count": null,
   "metadata": {
    "colab": {
     "base_uri": "https://localhost:8080/",
     "height": 363
    },
    "id": "BdyFytAO3GAW",
    "outputId": "a645d84e-2140-4ed0-e55e-07e70233e62c"
   },
   "outputs": [
    {
     "data": {
      "text/html": [
       "<div>\n",
       "<style scoped>\n",
       "    .dataframe tbody tr th:only-of-type {\n",
       "        vertical-align: middle;\n",
       "    }\n",
       "\n",
       "    .dataframe tbody tr th {\n",
       "        vertical-align: top;\n",
       "    }\n",
       "\n",
       "    .dataframe thead th {\n",
       "        text-align: right;\n",
       "    }\n",
       "</style>\n",
       "<table border=\"1\" class=\"dataframe\">\n",
       "  <thead>\n",
       "    <tr style=\"text-align: right;\">\n",
       "      <th></th>\n",
       "      <th>app</th>\n",
       "      <th>topic</th>\n",
       "      <th>total</th>\n",
       "    </tr>\n",
       "  </thead>\n",
       "  <tbody>\n",
       "    <tr>\n",
       "      <th>1590</th>\n",
       "      <td>Gardenscapes</td>\n",
       "      <td>in-app purchase necessary to play the game, ba...</td>\n",
       "      <td>22</td>\n",
       "    </tr>\n",
       "    <tr>\n",
       "      <th>899</th>\n",
       "      <td>Cooking Fever</td>\n",
       "      <td>in-app purchase necessary to play the game, ba...</td>\n",
       "      <td>24</td>\n",
       "    </tr>\n",
       "    <tr>\n",
       "      <th>136</th>\n",
       "      <td>Agar.io</td>\n",
       "      <td>in-app purchase necessary to play the game, ba...</td>\n",
       "      <td>24</td>\n",
       "    </tr>\n",
       "    <tr>\n",
       "      <th>32</th>\n",
       "      <td>8 Ball Pool</td>\n",
       "      <td>in-app purchase necessary to play the game, ba...</td>\n",
       "      <td>34</td>\n",
       "    </tr>\n",
       "    <tr>\n",
       "      <th>967</th>\n",
       "      <td>DEAD TARGET: FPS Zombie Apocalypse Survival Games</td>\n",
       "      <td>in-app purchase necessary to play the game, ba...</td>\n",
       "      <td>34</td>\n",
       "    </tr>\n",
       "    <tr>\n",
       "      <th>585</th>\n",
       "      <td>Bowmasters</td>\n",
       "      <td>in-app purchase necessary to play the game, ba...</td>\n",
       "      <td>38</td>\n",
       "    </tr>\n",
       "    <tr>\n",
       "      <th>543</th>\n",
       "      <td>Block Puzzle</td>\n",
       "      <td>in-app purchase necessary to play the game, ba...</td>\n",
       "      <td>40</td>\n",
       "    </tr>\n",
       "    <tr>\n",
       "      <th>734</th>\n",
       "      <td>Candy Crush Soda Saga</td>\n",
       "      <td>in-app purchase necessary to play the game, ba...</td>\n",
       "      <td>56</td>\n",
       "    </tr>\n",
       "    <tr>\n",
       "      <th>239</th>\n",
       "      <td>Angry Birds Classic</td>\n",
       "      <td>in-app purchase necessary to play the game, ba...</td>\n",
       "      <td>64</td>\n",
       "    </tr>\n",
       "    <tr>\n",
       "      <th>732</th>\n",
       "      <td>Candy Crush Saga</td>\n",
       "      <td>in-app purchase necessary to play the game, ba...</td>\n",
       "      <td>78</td>\n",
       "    </tr>\n",
       "  </tbody>\n",
       "</table>\n",
       "</div>"
      ],
      "text/plain": [
       "                                                    app  ... total\n",
       "1590                                       Gardenscapes  ...    22\n",
       "899                                       Cooking Fever  ...    24\n",
       "136                                             Agar.io  ...    24\n",
       "32                                          8 Ball Pool  ...    34\n",
       "967   DEAD TARGET: FPS Zombie Apocalypse Survival Games  ...    34\n",
       "585                                          Bowmasters  ...    38\n",
       "543                                        Block Puzzle  ...    40\n",
       "734                               Candy Crush Soda Saga  ...    56\n",
       "239                                 Angry Birds Classic  ...    64\n",
       "732                                    Candy Crush Saga  ...    78\n",
       "\n",
       "[10 rows x 3 columns]"
      ]
     },
     "execution_count": 119,
     "metadata": {
      "tags": []
     },
     "output_type": "execute_result"
    }
   ],
   "source": [
    "all[all.topic == 'in-app purchase necessary to play the game, bad game experience'].sort_values(by = 'total').tail(10)\n",
    "# the app Block Puzzle has 40 reports of the in-app purchase problems"
   ]
  },
  {
   "cell_type": "code",
   "execution_count": null,
   "metadata": {
    "colab": {
     "base_uri": "https://localhost:8080/",
     "height": 81
    },
    "id": "dHN9Tjow93xQ",
    "outputId": "98fe076e-b548-4431-fd0c-60efb53592cb"
   },
   "outputs": [
    {
     "data": {
      "text/html": [
       "<div>\n",
       "<style scoped>\n",
       "    .dataframe tbody tr th:only-of-type {\n",
       "        vertical-align: middle;\n",
       "    }\n",
       "\n",
       "    .dataframe tbody tr th {\n",
       "        vertical-align: top;\n",
       "    }\n",
       "\n",
       "    .dataframe thead th {\n",
       "        text-align: right;\n",
       "    }\n",
       "</style>\n",
       "<table border=\"1\" class=\"dataframe\">\n",
       "  <thead>\n",
       "    <tr style=\"text-align: right;\">\n",
       "      <th></th>\n",
       "      <th>App</th>\n",
       "      <th>Category</th>\n",
       "      <th>Rating</th>\n",
       "      <th>Reviews</th>\n",
       "      <th>Size</th>\n",
       "      <th>Installs</th>\n",
       "      <th>Type</th>\n",
       "      <th>Price</th>\n",
       "      <th>Content Rating</th>\n",
       "      <th>Genres</th>\n",
       "      <th>Last Updated</th>\n",
       "      <th>Current Ver</th>\n",
       "      <th>Android Ver</th>\n",
       "    </tr>\n",
       "  </thead>\n",
       "  <tbody>\n",
       "    <tr>\n",
       "      <th>1541</th>\n",
       "      <td>Agar.io</td>\n",
       "      <td>game</td>\n",
       "      <td>4.2</td>\n",
       "      <td>3816799</td>\n",
       "      <td>32.0</td>\n",
       "      <td>100000000.0</td>\n",
       "      <td>Free</td>\n",
       "      <td>0.0</td>\n",
       "      <td>Everyone</td>\n",
       "      <td>action</td>\n",
       "      <td>2018-07-23</td>\n",
       "      <td>228.0</td>\n",
       "      <td>403.0</td>\n",
       "    </tr>\n",
       "  </tbody>\n",
       "</table>\n",
       "</div>"
      ],
      "text/plain": [
       "          App Category  Rating  ...  Last Updated  Current Ver  Android Ver\n",
       "1541  Agar.io     game     4.2  ...    2018-07-23        228.0        403.0\n",
       "\n",
       "[1 rows x 13 columns]"
      ]
     },
     "execution_count": 126,
     "metadata": {
      "tags": []
     },
     "output_type": "execute_result"
    }
   ],
   "source": [
    "app = 'Agar.io' \n",
    "apps[apps.App == app]"
   ]
  },
  {
   "cell_type": "code",
   "execution_count": null,
   "metadata": {
    "colab": {
     "base_uri": "https://localhost:8080/"
    },
    "id": "i18qjJ_k4TQF",
    "outputId": "ae0ae8ea-0387-40fa-b1b5-96057e02045a"
   },
   "outputs": [
    {
     "data": {
      "text/plain": [
       "array([3816799])"
      ]
     },
     "execution_count": 127,
     "metadata": {
      "tags": []
     },
     "output_type": "execute_result"
    }
   ],
   "source": [
    "apps[apps.App == app].Reviews.values"
   ]
  },
  {
   "cell_type": "code",
   "execution_count": null,
   "metadata": {
    "id": "acdahqXP6zLf"
   },
   "outputs": [],
   "source": [
    "# % of negative reviews which are due to in-app purchase necessary to play the game, ba...\n",
    "bad_ux = all[(all.app == app) & (all.topic =='in-app purchase necessary to play the game, bad game experience')].total.values/df[df.App == app].Sentiment.value_counts()[1]"
   ]
  },
  {
   "cell_type": "code",
   "execution_count": null,
   "metadata": {
    "id": "ufe5dKYb4eed"
   },
   "outputs": [],
   "source": [
    "all_pos_neg_reviews = df[df.App == app].Sentiment.value_counts()/len(df[df.App == app])"
   ]
  },
  {
   "cell_type": "code",
   "execution_count": null,
   "metadata": {
    "colab": {
     "base_uri": "https://localhost:8080/"
    },
    "id": "AsPphGj05ZMm",
    "outputId": "78587a92-316d-4f07-cc39-8e95b766b0fc"
   },
   "outputs": [
    {
     "name": "stdout",
     "output_type": "stream",
     "text": [
      " estimated reached users 17647058\n"
     ]
    }
   ],
   "source": [
    "print(f' estimated reached users', int(all_pos_neg_reviews[1]*apps[apps.App == app].Installs.values*bad_ux) )"
   ]
  },
  {
   "cell_type": "code",
   "execution_count": null,
   "metadata": {
    "colab": {
     "base_uri": "https://localhost:8080/"
    },
    "id": "OTc8bySW8rdo",
    "outputId": "cd0670f7-47fc-4e57-ae6e-c3393217d11b"
   },
   "outputs": [
    {
     "name": "stdout",
     "output_type": "stream",
     "text": [
      " users complaining for any reason 44.12% users reached by addressing the poroblem 673552  which is 17.65% of the total\n"
     ]
    }
   ],
   "source": [
    "print(f' users complaining for any reason {round(all_pos_neg_reviews[1]*100, 2)}%', 'users reached by addressing the poroblem',\n",
    "      int(all_pos_neg_reviews[1]*apps[apps.App == app].Reviews.values*bad_ux), \n",
    "      f' which is {round(bad_ux[0]*all_pos_neg_reviews[1]*100, 2)}% of the total' )"
   ]
  },
  {
   "cell_type": "code",
   "execution_count": null,
   "metadata": {
    "colab": {
     "base_uri": "https://localhost:8080/"
    },
    "id": "DNAACiCU5ZTN",
    "outputId": "c5bd152e-1b33-4ee2-ac49-c1fa025311b4"
   },
   "outputs": [
    {
     "data": {
      "text/plain": [
       "98.83999999999999"
      ]
     },
     "execution_count": 147,
     "metadata": {
      "tags": []
     },
     "output_type": "execute_result"
    }
   ],
   "source": [
    "17.65*5.6"
   ]
  }
 ],
 "metadata": {
  "colab": {
   "collapsed_sections": [
    "e0NCa3Dg_gmx",
    "8lEhMw9g_jcC",
    "zrADVQoA5UUd",
    "O1HfMLIJ5pL2",
    "42p4QVGFC51k",
    "gU4vCIg-C2cI"
   ],
   "name": "Topic modelling.ipynb",
   "provenance": []
  },
  "kernelspec": {
   "display_name": "Python 3",
   "language": "python",
   "name": "python3"
  },
  "language_info": {
   "codemirror_mode": {
    "name": "ipython",
    "version": 3
   },
   "file_extension": ".py",
   "mimetype": "text/x-python",
   "name": "python",
   "nbconvert_exporter": "python",
   "pygments_lexer": "ipython3",
   "version": "3.6.12"
  }
 },
 "nbformat": 4,
 "nbformat_minor": 4
}
