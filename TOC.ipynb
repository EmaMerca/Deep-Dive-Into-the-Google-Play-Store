{
 "cells": [
  {
   "cell_type": "markdown",
   "metadata": {},
   "source": [
    "# Deep Dive into the  Google Play Store\n"
   ]
  },
  {
   "cell_type": "markdown",
   "metadata": {},
   "source": [
    "| Gruppo 4    | \n",
    "| :--- |\n",
    "| Alessandro Emanuele Piotti|\n",
    "| Emanuele Mercanti   |\n",
    "| Debora Ramella   |"
   ]
  },
  {
   "cell_type": "markdown",
   "metadata": {},
   "source": [
    "Jupyter Notebook repilogativo dell'analisi svolta sul Google Play Market Store dal Gruppo 4."
   ]
  },
  {
   "cell_type": "markdown",
   "metadata": {},
   "source": [
    "# Contenuti\n",
    "* [Analisi Dati](#eda)\n",
    "    * [Google Play Store ](#googleplaystore)\n",
    "    * [Google Play Store User Reviews](#googleplaystoreusereviews)\n",
    "    * [Google Play Store - Estensione](#googleplaystorextended)\n",
    "* [Add - Ons](#addons)\n",
    "    * [Dynamic Pricing: PRICE4YOU](#PRICE4YOU)\n",
    "    * [Sviluppo Software e UX/UI: FIX YOUR APP](#FIXYOURAPP)"
   ]
  },
  {
   "cell_type": "markdown",
   "metadata": {},
   "source": [
    "## Analisi Dati <a class=\"anchor\" id=\"eda\"></a>"
   ]
  },
  {
   "cell_type": "markdown",
   "metadata": {},
   "source": [
    "### Google Play Store <a class=\"anchor\" id=\"googleplaystoreusereviews\"></a>"
   ]
  },
  {
   "cell_type": "markdown",
   "metadata": {},
   "source": [
    "📌 Dataset con informazioni su un campione di app presenti sul Google Play Store.\n",
    "Disponibile anche su: https://www.kaggle.com/lava18/google-play-store-apps.\n",
    "\n",
    "\n",
    "| Campo  |  Descrizione |\n",
    "|--- |---  |\n",
    "| App  |  Nome dell'app | \n",
    "| Category  |  Categoria di appartenenza | \n",
    "| Rating  |  Valutazione complessiva degli utenti dell'app  | \n",
    "| Reviews  |  Numero di recensioni dell'app | \n",
    "| Size  |  Dimensione dell'app | \n",
    "| Installs  |  Numero di download / installazioni degli utenti per l'app | \n",
    "| Type  |  Gratis o a pagamento | \n",
    "| Price  |  Prezzo dell'app | \n",
    "| Content Rating  |  Gruppo di età a cui è destinata l'app | \n",
    "| Genres  |  Genere dell'app | \n",
    "| Last Updated  |  Data dell'ultimo aggiornamento | \n",
    "| Current Ver  |  Versione corrente dell'app disponibile su Play Store | \n",
    "| Android Ver  |  Versione Android minima richiesta | \n"
   ]
  },
  {
   "cell_type": "markdown",
   "metadata": {},
   "source": [
    "📔 Link ai Jupyter Notebooks:\n",
    "\n",
    "* [Data cleaning del dataset](Data_Cleaning_Google_Play_Store.ipynb)\n",
    "\n",
    "* [Analisi esplorativa e imputazione NaN nel campo Rating](Features_final.ipynb)\n",
    "\n",
    "* [Analisi esplorativa con focus sul pricing](pricing_exploratory.ipynb)"
   ]
  },
  {
   "cell_type": "markdown",
   "metadata": {},
   "source": [
    "### Google Play Store User Reviews <a class=\"anchor\" id=\"googleplaystoreusereviews\"></a>"
   ]
  },
  {
   "cell_type": "markdown",
   "metadata": {},
   "source": [
    "📌 Dataset contenente le 100 recensioni più rilevanti per ciascuna app con tre metriche di sentiment analysis. Disponibile anche su: \n",
    "https://www.kaggle.com/lava18/google-play-store-apps.\n",
    "    \n",
    "| Campo  |  Descrizione | \n",
    "|--- |---  |\n",
    "| App  |  Nome dell'app | \n",
    "| Translated_Review  |  Recensioni degli utenti (preprocessate e tradotte) | \n",
    "| Sentiment  |  Sentiment con tre possibili valori (Positive/Negative/Neutral) | \n",
    "| Sentiment_Polarity  |  Polarità del sentiment (punteggio da -1 a 1, dove 0 è neutro) | \n",
    "| Sentiment_Subjectivity  |  Soggettività del sentiment (punteggio) | "
   ]
  },
  {
   "cell_type": "markdown",
   "metadata": {},
   "source": [
    "📔 Link ai Jupyter Notebooks:\n",
    "\n",
    "* [Data cleaning e analisi del dataset](nlp.ipynb)\n",
    "* [Topic Modeling](Topic_modelling.ipynb)"
   ]
  },
  {
   "cell_type": "markdown",
   "metadata": {},
   "source": [
    "### Google Play Store Extended <a class=\"anchor\" id=\"googleplaystorextended\"></a>"
   ]
  },
  {
   "cell_type": "markdown",
   "metadata": {},
   "source": [
    "📌 Dataset contenente informazioni su un campione di app presenti sul Google Play Store.\n",
    "Estratto con i moduli https://github.com/danieliu/play-scraper e https://github.com/JoMingyu/google-play-scraper.\n",
    "\n",
    "\n",
    "| Campo**  |  Descrizione |\n",
    "|--- |---  |\n",
    "| title  |  Nome dell'app | \n",
    "| genreId  |  Categoria di appartenenza | \n",
    "| score  |  Valutazione complessiva degli utenti dell'app  | \n",
    "| reviews  |  Numero di recensioni dell'app | \n",
    "| size  |  Dimensione dell'app | \n",
    "| minInstalls  |  Numero 'conservativo' di download / installazioni degli utenti per ciascuna app| \n",
    "| type  |  Gratis o a pagamento | \n",
    "| price  |  Prezzo dell'app | \n",
    "| currency  |  Valuta | \n",
    "| sale  |  Indica se in saldo | \n",
    "| inAppPurchase  |  Indica se presenti acquisti in-app | \n",
    "| androidVersion  |  Versione Android minima richiesta | \n",
    "| developer  |  Sviluppatore|\n",
    "| containsAds  |Indica se presenti pubblicità|\n",
    "| released  |Data di rilascio|\n",
    "| updated  |Ultima data di aggiornamento|\n",
    "\n",
    "\n",
    "** (elencati solo i campi principali.)\n"
   ]
  },
  {
   "cell_type": "markdown",
   "metadata": {},
   "source": [
    "📔 Link ai Jupyter Notebooks:\n",
    "\n",
    "* [Data cleaning e analisi del dataset](Data_Cleaning_Google_Play_Store_Esteso.ipynb)"
   ]
  },
  {
   "cell_type": "markdown",
   "metadata": {},
   "source": [
    "## Add-Ons <a class=\"anchor\" id=\"addons\"></a>"
   ]
  },
  {
   "cell_type": "markdown",
   "metadata": {},
   "source": [
    "### FIXYOURAPP <a class=\"anchor\" id=\"FIXYOURAPP\"></a>"
   ]
  },
  {
   "cell_type": "markdown",
   "metadata": {},
   "source": [
    "📌 Obiettivo: Comprendere quali App andare a \"targettizzare\" per vendere dei servizi relativi a consulenza nello sviluppo software e analisi UX & UI.\n",
    "\n",
    "📔 Link ai Jupyter Notebooks:\n",
    "* [Data cleaning e analisi del dataset](nlp.ipynb)"
   ]
  },
  {
   "cell_type": "markdown",
   "metadata": {},
   "source": [
    "### PRICE4YOU <a class=\"anchor\" id=\"PRICE4YOU\"></a>"
   ]
  },
  {
   "cell_type": "markdown",
   "metadata": {},
   "source": [
    "📌 Obiettivo: Comprendere quali app potrebbero essere interessate a un servizio per valutare il posizionamento competitivo sul mercato con attenzione a logiche di \"dynamic pricing\".\n",
    "\n",
    "📔 Link ai Jupyter Notebooks:\n",
    "* [Dynamic Pricing](PRICE4YOU_ADDON.ipynb)"
   ]
  }
 ],
 "metadata": {
  "kernelspec": {
   "display_name": "Python 3",
   "language": "python",
   "name": "python3"
  },
  "language_info": {
   "codemirror_mode": {
    "name": "ipython",
    "version": 3
   },
   "file_extension": ".py",
   "mimetype": "text/x-python",
   "name": "python",
   "nbconvert_exporter": "python",
   "pygments_lexer": "ipython3",
   "version": "3.6.12"
  }
 },
 "nbformat": 4,
 "nbformat_minor": 4
}
