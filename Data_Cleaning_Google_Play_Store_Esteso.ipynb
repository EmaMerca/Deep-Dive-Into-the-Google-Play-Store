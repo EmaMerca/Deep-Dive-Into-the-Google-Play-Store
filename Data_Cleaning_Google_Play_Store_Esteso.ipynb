{
 "cells": [
  {
   "cell_type": "markdown",
   "metadata": {},
   "source": [
    "# Data Cleaning Google Play Store Esteso"
   ]
  },
  {
   "cell_type": "code",
   "execution_count": 122,
   "metadata": {},
   "outputs": [],
   "source": [
    "import re\n",
    "import datetime\n",
    "import pandas as pd"
   ]
  },
  {
   "cell_type": "code",
   "execution_count": 123,
   "metadata": {},
   "outputs": [],
   "source": [
    "#df=pd.read_csv('/DATA/raw/data_raw_googleplaystore2020.csv')\n",
    "#non caricato perchè pesante"
   ]
  },
  {
   "cell_type": "code",
   "execution_count": 125,
   "metadata": {},
   "outputs": [],
   "source": [
    "df=pd.read_csv('DATA/raw/data_raw_googleplaystore2020.csv')"
   ]
  },
  {
   "cell_type": "code",
   "execution_count": 126,
   "metadata": {},
   "outputs": [
    {
     "data": {
      "text/plain": [
       "Index(['title', 'description', 'minInstalls', 'score', 'ratings', 'reviews',\n",
       "       'price', 'free', 'currency', 'sale', 'originalPrice', 'offersIAP',\n",
       "       'inAppProductPrice', 'size', 'androidVersion', 'developer',\n",
       "       'developerWebsite', 'genreId', 'video', 'contentRating', 'containsAds',\n",
       "       'released', 'updated'],\n",
       "      dtype='object')"
      ]
     },
     "execution_count": 126,
     "metadata": {},
     "output_type": "execute_result"
    }
   ],
   "source": [
    "df.columns"
   ]
  },
  {
   "cell_type": "code",
   "execution_count": 99,
   "metadata": {},
   "outputs": [],
   "source": [
    "#drop duplicated apps\n",
    "df.drop_duplicates('title',inplace=True)"
   ]
  },
  {
   "cell_type": "code",
   "execution_count": 100,
   "metadata": {},
   "outputs": [],
   "source": [
    "#drop rows with at least 70% of columns missing\n",
    "df.dropna(thresh=0.3*len(df.columns),inplace=True)"
   ]
  },
  {
   "cell_type": "code",
   "execution_count": 101,
   "metadata": {},
   "outputs": [
    {
     "data": {
      "text/plain": [
       "title                    0\n",
       "description              0\n",
       "minInstalls              0\n",
       "score                   88\n",
       "ratings               1208\n",
       "reviews                 88\n",
       "price                    4\n",
       "free                     4\n",
       "currency                 4\n",
       "sale                     0\n",
       "originalPrice        17451\n",
       "offersIAP                0\n",
       "inAppProductPrice    11594\n",
       "size                     0\n",
       "androidVersion          47\n",
       "developer                0\n",
       "developerWebsite      3800\n",
       "genreId                  0\n",
       "video                13150\n",
       "contentRating            0\n",
       "containsAds              0\n",
       "released               175\n",
       "updated                 91\n",
       "dtype: int64"
      ]
     },
     "execution_count": 101,
     "metadata": {},
     "output_type": "execute_result"
    }
   ],
   "source": [
    "#df.dtypes\n",
    "df.isna().sum()"
   ]
  },
  {
   "cell_type": "code",
   "execution_count": 102,
   "metadata": {},
   "outputs": [],
   "source": [
    "#create a variable measuring length of the description\n",
    "df['lenDescription']=df['description'].str.len()\n",
    "df.drop(columns='description',axis=1,inplace=True)"
   ]
  },
  {
   "cell_type": "code",
   "execution_count": 103,
   "metadata": {},
   "outputs": [],
   "source": [
    "#drop rows with nan in the price field, as such rows are missing other important fields\n",
    "df.dropna(subset=['price'],inplace=True)\n",
    "#drop rows with app price > 250 - scammy apps\n",
    "df.drop(df[df.price>250].index,inplace=True)"
   ]
  },
  {
   "cell_type": "code",
   "execution_count": 104,
   "metadata": {},
   "outputs": [],
   "source": [
    "#rename the free column and relabel values to improve clarity when graphing\n",
    "df.rename(columns={'free':'type'},inplace=True)\n",
    "df[\"type\"].replace({True:'Free',False:'Paid'},inplace=True)"
   ]
  },
  {
   "cell_type": "code",
   "execution_count": 105,
   "metadata": {},
   "outputs": [],
   "source": [
    "#very few obs with currency different than USD; free apps with XXX under currency are all free with in app product price in $ \n",
    "#keep the column currency just to remind that everything is in usd\n",
    "df['currency']='USD'"
   ]
  },
  {
   "cell_type": "code",
   "execution_count": 106,
   "metadata": {},
   "outputs": [],
   "source": [
    "#sale - relabel values to improve clarity when graphing\n",
    "df[\"sale\"].replace({True:'Sale',False:'Not Sale'},inplace=True)"
   ]
  },
  {
   "cell_type": "code",
   "execution_count": 107,
   "metadata": {},
   "outputs": [],
   "source": [
    "#original price - drop and create new feature measuring the % of the price drop during sale\n",
    "df['saleDiscountPerc'] = df.apply(lambda row: abs(((row.price/row.originalPrice)-1)*100), axis=1)\n",
    "df['saleDiscountPerc'].fillna(0,inplace=True)\n",
    "df.drop(columns='originalPrice',axis=1,inplace=True)"
   ]
  },
  {
   "cell_type": "code",
   "execution_count": 108,
   "metadata": {},
   "outputs": [],
   "source": [
    "#rename the offersIAP column and relabel values to improve clarity when graphing\n",
    "df.rename(columns={'offersIAP':'inAppPurchase'},inplace=True)\n",
    "df[\"inAppPurchase\"].replace({True:'Yes',False:'No'},inplace=True)"
   ]
  },
  {
   "cell_type": "code",
   "execution_count": 109,
   "metadata": {},
   "outputs": [],
   "source": [
    "#drop inAppProductPrice and create three new features: max,min,mean, range of in app prices\n",
    "df['inAppProductPrice'].fillna(0,inplace=True)\n",
    "df['inAppProductPrice'] = df['inAppProductPrice'].apply(lambda row: str(row).replace('$', '') if '$' in str(row) else str(row))\n",
    "df['inAppProductPrice'] = df['inAppProductPrice'].apply(lambda row: str(row).replace('per item', '') if 'per item' in str(row) else str(row))\n",
    "df['inAppProductPrice'] = df['inAppProductPrice'].apply(lambda row: str(row).replace(' ', '') if ' ' in str(row) else str(row))\n",
    "df['inAppProductPrice']=df['inAppProductPrice'].apply(lambda row: str(row).split(\"-\"))\n",
    "\n",
    "df['inAppPriceMin']=df['inAppProductPrice'].apply(lambda row: row[0])\n",
    "df['inAppPriceMax']=df['inAppProductPrice'].apply(lambda row: row[-1])\n",
    "df['inAppPriceMin']=pd.to_numeric(df['inAppPriceMin'])\n",
    "df.loc[df['inAppPriceMax']=='1,024.00','inAppPriceMax']='1024'\n",
    "df['inAppPriceMax']=pd.to_numeric(df['inAppPriceMax'])\n",
    "df['inAppPriceRange']=df['inAppPriceMax']-df['inAppPriceMin']\n",
    "df['inAppPriceMean']=df['inAppPriceMax']-df['inAppPriceMin']/2\n",
    "df.drop(columns='inAppProductPrice',inplace=True)"
   ]
  },
  {
   "cell_type": "code",
   "execution_count": 110,
   "metadata": {},
   "outputs": [],
   "source": [
    "#Uniform size in MB\n",
    "df['size'] = df['size'].apply(lambda row: str(row).replace('Varies with device', '-1'))\n",
    "df['size'] = df['size'].apply(lambda row: re.sub('[M,]', '', row))\n",
    "df['size'] = df['size'].apply(lambda row: (float(str(row).replace('k', '')) / 1000) if 'k' in str(row) else row)\n",
    "df['size'] = df['size'].apply(lambda row: (float(str(row).replace('G', ''))* 1024) if 'G' in str(row) else row)\n",
    "df['size'] = pd.to_numeric(df['size'])"
   ]
  },
  {
   "cell_type": "code",
   "execution_count": 111,
   "metadata": {},
   "outputs": [],
   "source": [
    "# transforms android version column to numeric\n",
    "df['androidVersion'] = df['androidVersion'].apply(lambda row: re.sub('[^0-9]', '', str(row)))\n",
    "df['androidVersion'] = df['androidVersion'].apply(lambda row: str(row).replace('Varies', '-1'))\n",
    "df['androidVersion'].fillna('-1',inplace=True)\n",
    "#df['androidVersion'] = pd.to_numeric(df['androidVersion'])"
   ]
  },
  {
   "cell_type": "code",
   "execution_count": 112,
   "metadata": {},
   "outputs": [],
   "source": [
    "#transform the column video in a bool\n",
    "df['videoAvailable']=df.video.notna()\n",
    "df['videoAvailable'].replace({True:'Yes',False:'No'},inplace=True)\n",
    "df.drop(columns='video',inplace=True)"
   ]
  },
  {
   "cell_type": "code",
   "execution_count": 113,
   "metadata": {},
   "outputs": [],
   "source": [
    "#Content Rating check distribution of values - only one app for 18+ and it is a game - so moved to 17+\n",
    "df.contentRating.value_counts()\n",
    "df['contentRating'].replace({'Adults only 18+':'Mature 17+',}, inplace = True)"
   ]
  },
  {
   "cell_type": "code",
   "execution_count": 114,
   "metadata": {},
   "outputs": [],
   "source": [
    "#relabel ContainAds values to improve clarity when graphing\n",
    "df['containsAds'].replace({True:'Yes',False:'No'},inplace=True)"
   ]
  },
  {
   "cell_type": "code",
   "execution_count": 115,
   "metadata": {},
   "outputs": [],
   "source": [
    "#Transform the Released and Updated fields in a datetime format. Create a new feature mesuring the age of the app\n",
    "scraping_date= datetime.datetime(2020, 12, 2)\n",
    "df['released'] = pd.to_datetime(df['released'], infer_datetime_format = True)\n",
    "df['appDaysSinceReleased']=(scraping_date - df.released).astype('timedelta64[D]')\n",
    "df['appDaysSinceReleased'].fillna(df.appDaysSinceReleased.median(),inplace=True)\n",
    "df.drop(columns='released',inplace=True)\n",
    "df['updated'] = pd.to_datetime(df['updated'], infer_datetime_format = True)\n",
    "df['appDaysSinceUpdated']=(scraping_date - df.updated).astype('timedelta64[D]')\n",
    "df['appDaysSinceUpdated'].fillna(df.appDaysSinceReleased.median(),inplace=True)"
   ]
  },
  {
   "cell_type": "code",
   "execution_count": 116,
   "metadata": {},
   "outputs": [],
   "source": [
    "#The column rating is how many times a score is given. The column reviews is how many reviews has been given.\n",
    "#df[df.ratings<df.reviews]\n",
    "df[['ratings','reviews']].corr()\n",
    "#the variables are heavily correlated since they measure the same underlying phenomenon\n",
    "df[['ratings','reviews']].isna().sum()\n",
    "#drop rating which has a higher number of nan\n",
    "df.drop(columns='ratings',inplace=True)"
   ]
  },
  {
   "cell_type": "code",
   "execution_count": 117,
   "metadata": {},
   "outputs": [],
   "source": [
    "#Reviews\n",
    "#the rows where the number of reviews is missing are also missing the score value. this probably means that the missing values are \n",
    "#in fact apps that have not been rated/reviewed. Apps w/o a score are markes as Not Rated with number of reviews set to 0.\n",
    "df.reviews.fillna(0,inplace=True)\n"
   ]
  },
  {
   "cell_type": "code",
   "execution_count": 118,
   "metadata": {},
   "outputs": [],
   "source": [
    "#Score - the rating must be between 1 and 5\n",
    "#No scores above 5\n",
    "df['score']=round(df['score'])\n",
    "df[df['score']>5]\n",
    "#Some \"0\" scores\n",
    "set(df[df['score']<1])\n",
    "#rows with \"0\" scores have also 0 reviews - meaning they have not been rated\n",
    "set(df.loc[df['score']==0,'reviews'])\n",
    "df['score'].replace({0:'NR'}, inplace = True)\n",
    "df.score.fillna('NR',inplace=True)"
   ]
  },
  {
   "cell_type": "code",
   "execution_count": 119,
   "metadata": {},
   "outputs": [],
   "source": [
    "#GenreId rename as category-group all games together\n",
    "df['genreId']=df['genreId'].apply(lambda row: row.split(\"_\")[0] if row.startswith('GAME_') else row)"
   ]
  },
  {
   "cell_type": "code",
   "execution_count": 120,
   "metadata": {},
   "outputs": [],
   "source": [
    "df.to_csv('/Users/Debora/Desktop/Projects/CLEAN_NLP/DATA/pre-processed/clean_app_data2020.csv',index=False)\n"
   ]
  },
  {
   "cell_type": "code",
   "execution_count": null,
   "metadata": {},
   "outputs": [],
   "source": []
  }
 ],
 "metadata": {
  "kernelspec": {
   "display_name": "Python 3",
   "language": "python",
   "name": "python3"
  },
  "language_info": {
   "codemirror_mode": {
    "name": "ipython",
    "version": 3
   },
   "file_extension": ".py",
   "mimetype": "text/x-python",
   "name": "python",
   "nbconvert_exporter": "python",
   "pygments_lexer": "ipython3",
   "version": "3.6.12"
  }
 },
 "nbformat": 4,
 "nbformat_minor": 4
}
