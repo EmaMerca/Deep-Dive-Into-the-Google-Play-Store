{
 "cells": [
  {
   "cell_type": "markdown",
   "metadata": {},
   "source": [
    "# Data Cleaning Dati sul Google Play Store"
   ]
  },
  {
   "cell_type": "markdown",
   "metadata": {},
   "source": [
    "Librerie"
   ]
  },
  {
   "cell_type": "code",
   "execution_count": 44,
   "metadata": {},
   "outputs": [],
   "source": [
    "import re\n",
    "import numpy as np\n",
    "import pandas as pd\n",
    "from IPython.display import Markdown"
   ]
  },
  {
   "cell_type": "code",
   "execution_count": 64,
   "metadata": {},
   "outputs": [],
   "source": [
    "df=pd.read_csv('DATA/raw/data_raw_googleplaystore.csv')"
   ]
  },
  {
   "cell_type": "markdown",
   "metadata": {},
   "source": [
    "### Rimozione App Duplicate"
   ]
  },
  {
   "cell_type": "code",
   "execution_count": 46,
   "metadata": {},
   "outputs": [
    {
     "name": "stdout",
     "output_type": "stream",
     "text": [
      "Rimozione dei 1181 valori duplicati nel campo App.\n"
     ]
    }
   ],
   "source": [
    "print(f'Rimozione dei {len(df.App[df.App.duplicated()])} valori duplicati nel campo App.')\n",
    "df.drop_duplicates(subset='App', inplace=True)"
   ]
  },
  {
   "cell_type": "markdown",
   "metadata": {},
   "source": [
    "### Trasformazione delle Colonne ['Reviews', 'Size', 'Installs', 'Type', 'Price', 'Current Ver',   'Android Ver']"
   ]
  },
  {
   "cell_type": "code",
   "execution_count": 47,
   "metadata": {},
   "outputs": [],
   "source": [
    "# transforms to numeric\n",
    "df['Installs'] = df['Installs'].apply(lambda x: re.sub('[+,]', '', x))\n",
    "df['Installs'] = df['Installs'].apply(lambda x: x.replace('Free', '-1').replace('Paid', '-1'))\n",
    "df['Installs'] = pd.to_numeric(df['Installs'])\n",
    "\n",
    "# transforms to numeric\n",
    "df['Size'] = df['Size'].apply(lambda x: str(x).replace('Varies with device', '-1'))\n",
    "df['Size'] = df['Size'].apply(lambda x: re.sub('[M,]', '', x))\n",
    "df['Size'] = df['Size'].apply(lambda x: (float(str(x).replace('k', '')) / 1000) if 'k' in str(x) else x)\n",
    "df['Size'] = pd.to_numeric(df['Size'], errors = 'coerce')\n",
    "\n",
    "# transforms to numeric\n",
    "df['Price'] = df['Price'].apply(lambda x: str(x).replace('$', '') if '$' in str(x) else str(x))\n",
    "df['Price']=df['Price'].replace('Free',0)\n",
    "df['Price'] = pd.to_numeric(df['Price'], errors = 'coerce')\n",
    "\n",
    "# transforms to numeric\n",
    "df['Android Ver'] = df['Android Ver'].apply(lambda x: re.sub('[^0-9]', '', str(x)))\n",
    "df['Android Ver'] = pd.to_numeric(df['Android Ver'], errors = 'coerce')\n",
    "\n",
    "# transforms to numeric\n",
    "df['Current Ver'] = df['Current Ver'].apply(lambda x: re.sub('[^0-9]', '', str(x)))\n",
    "df['Current Ver'] = pd.to_numeric(df['Current Ver'], errors = 'coerce')\n",
    "\n",
    "# transforms to numeric\n",
    "df['Reviews'] = df['Reviews'].apply(lambda x: x.replace('3.0M', '3000000'))\n",
    "df['Reviews'] = pd.to_numeric(df['Reviews'], errors = 'coerce')"
   ]
  },
  {
   "cell_type": "markdown",
   "metadata": {},
   "source": [
    "### Sanity Checks"
   ]
  },
  {
   "cell_type": "markdown",
   "metadata": {},
   "source": [
    "#### Installs"
   ]
  },
  {
   "cell_type": "code",
   "execution_count": 48,
   "metadata": {},
   "outputs": [
    {
     "name": "stdout",
     "output_type": "stream",
     "text": [
      "Rimozione delle 15 App che non sono mai state installate.\n"
     ]
    }
   ],
   "source": [
    "print(f'Rimozione delle {len(df.App[df.Installs==0])} App che non sono mai state installate.')\n",
    "df.drop(df[df.Installs==0].index,inplace=True)"
   ]
  },
  {
   "cell_type": "markdown",
   "metadata": {},
   "source": [
    "#### Rating"
   ]
  },
  {
   "cell_type": "code",
   "execution_count": 49,
   "metadata": {},
   "outputs": [
    {
     "name": "stdout",
     "output_type": "stream",
     "text": [
      "Rimozione delle App con valori del rating non conformi, che è su una scala da 1 a 5.\n"
     ]
    }
   ],
   "source": [
    "print(f'Rimozione delle App con valori del rating non conformi, che è su una scala da 1 a 5.')\n",
    "df.drop(df.loc[(df['Rating']<1) | (df['Rating']>5)].index, inplace=True)\n"
   ]
  },
  {
   "cell_type": "markdown",
   "metadata": {},
   "source": [
    "#### Price"
   ]
  },
  {
   "cell_type": "code",
   "execution_count": 50,
   "metadata": {},
   "outputs": [
    {
     "name": "stdout",
     "output_type": "stream",
     "text": [
      "Rimozione delle 15 App con prezzo superiore a 250 USD.\n"
     ]
    }
   ],
   "source": [
    "print(f'Rimozione delle {len(df[df.Price>250])} App con prezzo superiore a 250 USD.')\n",
    "df.drop(df.loc[df.Price>250].index, inplace=True)"
   ]
  },
  {
   "cell_type": "markdown",
   "metadata": {},
   "source": [
    "#### Category"
   ]
  },
  {
   "cell_type": "code",
   "execution_count": 51,
   "metadata": {},
   "outputs": [
    {
     "name": "stdout",
     "output_type": "stream",
     "text": [
      "Analisi delle etichette e dei valori delle varie categorie, sosituzione di valori anomali.\n"
     ]
    },
    {
     "data": {
      "text/html": [
       "<div>\n",
       "<style scoped>\n",
       "    .dataframe tbody tr th:only-of-type {\n",
       "        vertical-align: middle;\n",
       "    }\n",
       "\n",
       "    .dataframe tbody tr th {\n",
       "        vertical-align: top;\n",
       "    }\n",
       "\n",
       "    .dataframe thead th {\n",
       "        text-align: right;\n",
       "    }\n",
       "</style>\n",
       "<table border=\"1\" class=\"dataframe\">\n",
       "  <thead>\n",
       "    <tr style=\"text-align: right;\">\n",
       "      <th></th>\n",
       "      <th>Category</th>\n",
       "    </tr>\n",
       "  </thead>\n",
       "  <tbody>\n",
       "    <tr>\n",
       "      <th>FAMILY</th>\n",
       "      <td>1825</td>\n",
       "    </tr>\n",
       "    <tr>\n",
       "      <th>GAME</th>\n",
       "      <td>959</td>\n",
       "    </tr>\n",
       "    <tr>\n",
       "      <th>TOOLS</th>\n",
       "      <td>827</td>\n",
       "    </tr>\n",
       "    <tr>\n",
       "      <th>BUSINESS</th>\n",
       "      <td>419</td>\n",
       "    </tr>\n",
       "    <tr>\n",
       "      <th>MEDICAL</th>\n",
       "      <td>394</td>\n",
       "    </tr>\n",
       "    <tr>\n",
       "      <th>PERSONALIZATION</th>\n",
       "      <td>375</td>\n",
       "    </tr>\n",
       "    <tr>\n",
       "      <th>PRODUCTIVITY</th>\n",
       "      <td>373</td>\n",
       "    </tr>\n",
       "    <tr>\n",
       "      <th>LIFESTYLE</th>\n",
       "      <td>363</td>\n",
       "    </tr>\n",
       "    <tr>\n",
       "      <th>FINANCE</th>\n",
       "      <td>337</td>\n",
       "    </tr>\n",
       "    <tr>\n",
       "      <th>SPORTS</th>\n",
       "      <td>325</td>\n",
       "    </tr>\n",
       "    <tr>\n",
       "      <th>COMMUNICATION</th>\n",
       "      <td>315</td>\n",
       "    </tr>\n",
       "    <tr>\n",
       "      <th>HEALTH_AND_FITNESS</th>\n",
       "      <td>288</td>\n",
       "    </tr>\n",
       "    <tr>\n",
       "      <th>PHOTOGRAPHY</th>\n",
       "      <td>281</td>\n",
       "    </tr>\n",
       "    <tr>\n",
       "      <th>NEWS_AND_MAGAZINES</th>\n",
       "      <td>253</td>\n",
       "    </tr>\n",
       "    <tr>\n",
       "      <th>SOCIAL</th>\n",
       "      <td>237</td>\n",
       "    </tr>\n",
       "    <tr>\n",
       "      <th>BOOKS_AND_REFERENCE</th>\n",
       "      <td>222</td>\n",
       "    </tr>\n",
       "    <tr>\n",
       "      <th>TRAVEL_AND_LOCAL</th>\n",
       "      <td>218</td>\n",
       "    </tr>\n",
       "    <tr>\n",
       "      <th>SHOPPING</th>\n",
       "      <td>202</td>\n",
       "    </tr>\n",
       "    <tr>\n",
       "      <th>DATING</th>\n",
       "      <td>171</td>\n",
       "    </tr>\n",
       "    <tr>\n",
       "      <th>VIDEO_PLAYERS</th>\n",
       "      <td>163</td>\n",
       "    </tr>\n",
       "    <tr>\n",
       "      <th>MAPS_AND_NAVIGATION</th>\n",
       "      <td>131</td>\n",
       "    </tr>\n",
       "    <tr>\n",
       "      <th>EDUCATION</th>\n",
       "      <td>119</td>\n",
       "    </tr>\n",
       "    <tr>\n",
       "      <th>FOOD_AND_DRINK</th>\n",
       "      <td>112</td>\n",
       "    </tr>\n",
       "    <tr>\n",
       "      <th>ENTERTAINMENT</th>\n",
       "      <td>102</td>\n",
       "    </tr>\n",
       "    <tr>\n",
       "      <th>AUTO_AND_VEHICLES</th>\n",
       "      <td>85</td>\n",
       "    </tr>\n",
       "    <tr>\n",
       "      <th>LIBRARIES_AND_DEMO</th>\n",
       "      <td>84</td>\n",
       "    </tr>\n",
       "    <tr>\n",
       "      <th>WEATHER</th>\n",
       "      <td>79</td>\n",
       "    </tr>\n",
       "    <tr>\n",
       "      <th>HOUSE_AND_HOME</th>\n",
       "      <td>74</td>\n",
       "    </tr>\n",
       "    <tr>\n",
       "      <th>EVENTS</th>\n",
       "      <td>64</td>\n",
       "    </tr>\n",
       "    <tr>\n",
       "      <th>ART_AND_DESIGN</th>\n",
       "      <td>63</td>\n",
       "    </tr>\n",
       "    <tr>\n",
       "      <th>PARENTING</th>\n",
       "      <td>60</td>\n",
       "    </tr>\n",
       "    <tr>\n",
       "      <th>COMICS</th>\n",
       "      <td>56</td>\n",
       "    </tr>\n",
       "    <tr>\n",
       "      <th>BEAUTY</th>\n",
       "      <td>53</td>\n",
       "    </tr>\n",
       "  </tbody>\n",
       "</table>\n",
       "</div>"
      ],
      "text/plain": [
       "                     Category\n",
       "FAMILY                   1825\n",
       "GAME                      959\n",
       "TOOLS                     827\n",
       "BUSINESS                  419\n",
       "MEDICAL                   394\n",
       "PERSONALIZATION           375\n",
       "PRODUCTIVITY              373\n",
       "LIFESTYLE                 363\n",
       "FINANCE                   337\n",
       "SPORTS                    325\n",
       "COMMUNICATION             315\n",
       "HEALTH_AND_FITNESS        288\n",
       "PHOTOGRAPHY               281\n",
       "NEWS_AND_MAGAZINES        253\n",
       "SOCIAL                    237\n",
       "BOOKS_AND_REFERENCE       222\n",
       "TRAVEL_AND_LOCAL          218\n",
       "SHOPPING                  202\n",
       "DATING                    171\n",
       "VIDEO_PLAYERS             163\n",
       "MAPS_AND_NAVIGATION       131\n",
       "EDUCATION                 119\n",
       "FOOD_AND_DRINK            112\n",
       "ENTERTAINMENT             102\n",
       "AUTO_AND_VEHICLES          85\n",
       "LIBRARIES_AND_DEMO         84\n",
       "WEATHER                    79\n",
       "HOUSE_AND_HOME             74\n",
       "EVENTS                     64\n",
       "ART_AND_DESIGN             63\n",
       "PARENTING                  60\n",
       "COMICS                     56\n",
       "BEAUTY                     53"
      ]
     },
     "execution_count": 51,
     "metadata": {},
     "output_type": "execute_result"
    }
   ],
   "source": [
    "print('Analisi delle etichette e dei valori delle varie categorie, sosituzione di valori anomali.')\n",
    "df.Category.value_counts().to_frame()"
   ]
  },
  {
   "cell_type": "code",
   "execution_count": 52,
   "metadata": {},
   "outputs": [],
   "source": [
    "df['Category'].replace({'1.9': 'PHOTOGRAPHY'}, inplace = True)"
   ]
  },
  {
   "cell_type": "markdown",
   "metadata": {},
   "source": [
    "### Genres"
   ]
  },
  {
   "cell_type": "code",
   "execution_count": 53,
   "metadata": {},
   "outputs": [
    {
     "name": "stdout",
     "output_type": "stream",
     "text": [
      "Pulizia e uniformazione del campo Genres.\n"
     ]
    }
   ],
   "source": [
    "print('Pulizia e uniformazione del campo Genres.')"
   ]
  },
  {
   "cell_type": "code",
   "execution_count": 54,
   "metadata": {},
   "outputs": [
    {
     "name": "stdout",
     "output_type": "stream",
     "text": [
      "{'photography', 'beauty', 'tools', 'casual', 'arcade', 'adventure', 'libraries', 'fitness', 'business', 'events', 'puzzle', 'art', 'communication', 'magazines', 'roleplaying', 'home', 'social', 'sports', 'food', 'comics', 'audio', 'action', 'demo', 'educational', 'health', 'racing', 'education', 'productivity', 'weather', 'parenting', 'entertainment', 'lifestyle', 'music', 'pretendplay', 'books', 'card', 'simulation', 'design', 'drink', 'dating', 'editors', 'maps', 'local', 'casino', 'navigation', 'shopping', 'vehicles', 'travel', 'braingames', 'trivia', 'reference', 'board', 'strategy', 'news', 'personalization', 'finance', 'video', 'videoplayers', 'word', 'auto', 'medical', 'creativity', 'house'}\n"
     ]
    }
   ],
   "source": [
    "# check all the possible genres\n",
    "gen = df['Genres'].values\n",
    "# gen = [el.replace('&', 'and').replace(' ', '_')for el in gen]\n",
    "gen = [el.replace(' ', '' ) for el in gen]\n",
    "g = set()\n",
    "for el in gen:\n",
    "  el = el.lower()\n",
    "  g = g.union(set(el.split(';')))\n",
    "\n",
    "# g1 is the set of all possbile genres\n",
    "g1 = set()\n",
    "for el in g:\n",
    "  g1 = g1.union(set(el.split('&')))\n",
    "\n",
    "print(g1)"
   ]
  },
  {
   "cell_type": "code",
   "execution_count": 55,
   "metadata": {},
   "outputs": [],
   "source": [
    "def genres_cleaner(stringa):\n",
    "  stringa = stringa.lower()\n",
    "\n",
    "  rep_dict = {'&': ';',\n",
    "              ' ': '',\n",
    "              'house': 'home',\n",
    "              'educational': 'education',\n",
    "              'february11,2018': ''}\n",
    "\n",
    "  for key, val in rep_dict.items():\n",
    "    stringa = stringa.replace(key, val)\n",
    "  return stringa\n",
    "\n",
    "df['Genres'] = df['Genres'].apply(lambda x: genres_cleaner(x))"
   ]
  },
  {
   "cell_type": "markdown",
   "metadata": {},
   "source": [
    "### Last Updated"
   ]
  },
  {
   "cell_type": "code",
   "execution_count": 56,
   "metadata": {},
   "outputs": [
    {
     "name": "stdout",
     "output_type": "stream",
     "text": [
      "Trasformazione del formato del campo Last Updated.\n"
     ]
    }
   ],
   "source": [
    "print('Trasformazione del formato del campo Last Updated.')\n",
    "# last updated to datetime\n",
    "df['Last Updated'].replace({'1.0.19': np.nan}, inplace = True)\n",
    "df['Last Updated'] = pd.to_datetime(df['Last Updated'], infer_datetime_format = True)"
   ]
  },
  {
   "cell_type": "markdown",
   "metadata": {},
   "source": [
    "### Content Rating"
   ]
  },
  {
   "cell_type": "code",
   "execution_count": 57,
   "metadata": {},
   "outputs": [
    {
     "name": "stdout",
     "output_type": "stream",
     "text": [
      "                 Content Rating\n",
      "Everyone                   7877\n",
      "Teen                       1033\n",
      "Mature 17+                  393\n",
      "Everyone 10+                321\n",
      "Adults only 18+               3\n",
      "Unrated                       2\n"
     ]
    }
   ],
   "source": [
    "print(df['Content Rating'].value_counts().to_frame())"
   ]
  },
  {
   "cell_type": "code",
   "execution_count": 58,
   "metadata": {},
   "outputs": [
    {
     "data": {
      "text/html": [
       "<div>\n",
       "<style scoped>\n",
       "    .dataframe tbody tr th:only-of-type {\n",
       "        vertical-align: middle;\n",
       "    }\n",
       "\n",
       "    .dataframe tbody tr th {\n",
       "        vertical-align: top;\n",
       "    }\n",
       "\n",
       "    .dataframe thead th {\n",
       "        text-align: right;\n",
       "    }\n",
       "</style>\n",
       "<table border=\"1\" class=\"dataframe\">\n",
       "  <thead>\n",
       "    <tr style=\"text-align: right;\">\n",
       "      <th></th>\n",
       "      <th>App</th>\n",
       "      <th>Category</th>\n",
       "      <th>Rating</th>\n",
       "      <th>Reviews</th>\n",
       "      <th>Size</th>\n",
       "      <th>Installs</th>\n",
       "      <th>Type</th>\n",
       "      <th>Price</th>\n",
       "      <th>Content Rating</th>\n",
       "      <th>Genres</th>\n",
       "      <th>Last Updated</th>\n",
       "      <th>Current Ver</th>\n",
       "      <th>Android Ver</th>\n",
       "    </tr>\n",
       "  </thead>\n",
       "  <tbody>\n",
       "    <tr>\n",
       "      <th>129</th>\n",
       "      <td>Secrets of beauty, youth and health</td>\n",
       "      <td>BEAUTY</td>\n",
       "      <td>NaN</td>\n",
       "      <td>77</td>\n",
       "      <td>2.9</td>\n",
       "      <td>10000</td>\n",
       "      <td>Free</td>\n",
       "      <td>0.0</td>\n",
       "      <td>Mature 17+</td>\n",
       "      <td>beauty</td>\n",
       "      <td>2017-08-08</td>\n",
       "      <td>20.0</td>\n",
       "      <td>23.0</td>\n",
       "    </tr>\n",
       "    <tr>\n",
       "      <th>133</th>\n",
       "      <td>Dresses Ideas &amp; Fashions +3000</td>\n",
       "      <td>BEAUTY</td>\n",
       "      <td>4.5</td>\n",
       "      <td>473</td>\n",
       "      <td>8.2</td>\n",
       "      <td>100000</td>\n",
       "      <td>Free</td>\n",
       "      <td>0.0</td>\n",
       "      <td>Mature 17+</td>\n",
       "      <td>beauty</td>\n",
       "      <td>2017-03-01</td>\n",
       "      <td>1020.0</td>\n",
       "      <td>16.0</td>\n",
       "    </tr>\n",
       "    <tr>\n",
       "      <th>134</th>\n",
       "      <td>Lady adviser (beauty, health)</td>\n",
       "      <td>BEAUTY</td>\n",
       "      <td>NaN</td>\n",
       "      <td>30</td>\n",
       "      <td>9.9</td>\n",
       "      <td>10000</td>\n",
       "      <td>Free</td>\n",
       "      <td>0.0</td>\n",
       "      <td>Mature 17+</td>\n",
       "      <td>beauty</td>\n",
       "      <td>2018-01-24</td>\n",
       "      <td>30.0</td>\n",
       "      <td>30.0</td>\n",
       "    </tr>\n",
       "    <tr>\n",
       "      <th>166</th>\n",
       "      <td>Read books online</td>\n",
       "      <td>BOOKS_AND_REFERENCE</td>\n",
       "      <td>4.1</td>\n",
       "      <td>91615</td>\n",
       "      <td>23.0</td>\n",
       "      <td>5000000</td>\n",
       "      <td>Free</td>\n",
       "      <td>0.0</td>\n",
       "      <td>Mature 17+</td>\n",
       "      <td>books;reference</td>\n",
       "      <td>2018-06-29</td>\n",
       "      <td>312.0</td>\n",
       "      <td>41.0</td>\n",
       "    </tr>\n",
       "    <tr>\n",
       "      <th>170</th>\n",
       "      <td>Flybook</td>\n",
       "      <td>BOOKS_AND_REFERENCE</td>\n",
       "      <td>3.9</td>\n",
       "      <td>1778</td>\n",
       "      <td>4.9</td>\n",
       "      <td>500000</td>\n",
       "      <td>Free</td>\n",
       "      <td>0.0</td>\n",
       "      <td>Mature 17+</td>\n",
       "      <td>books;reference</td>\n",
       "      <td>2014-10-16</td>\n",
       "      <td>103.0</td>\n",
       "      <td>21.0</td>\n",
       "    </tr>\n",
       "  </tbody>\n",
       "</table>\n",
       "</div>"
      ],
      "text/plain": [
       "                                     App             Category  Rating  \\\n",
       "129  Secrets of beauty, youth and health               BEAUTY     NaN   \n",
       "133       Dresses Ideas & Fashions +3000               BEAUTY     4.5   \n",
       "134        Lady adviser (beauty, health)               BEAUTY     NaN   \n",
       "166                    Read books online  BOOKS_AND_REFERENCE     4.1   \n",
       "170                              Flybook  BOOKS_AND_REFERENCE     3.9   \n",
       "\n",
       "     Reviews  Size  Installs  Type  Price Content Rating           Genres  \\\n",
       "129       77   2.9     10000  Free    0.0     Mature 17+           beauty   \n",
       "133      473   8.2    100000  Free    0.0     Mature 17+           beauty   \n",
       "134       30   9.9     10000  Free    0.0     Mature 17+           beauty   \n",
       "166    91615  23.0   5000000  Free    0.0     Mature 17+  books;reference   \n",
       "170     1778   4.9    500000  Free    0.0     Mature 17+  books;reference   \n",
       "\n",
       "    Last Updated  Current Ver  Android Ver  \n",
       "129   2017-08-08         20.0         23.0  \n",
       "133   2017-03-01       1020.0         16.0  \n",
       "134   2018-01-24         30.0         30.0  \n",
       "166   2018-06-29        312.0         41.0  \n",
       "170   2014-10-16        103.0         21.0  "
      ]
     },
     "execution_count": 58,
     "metadata": {},
     "output_type": "execute_result"
    }
   ],
   "source": [
    "df[df['Content Rating'] == 'Mature 17+'].head()"
   ]
  },
  {
   "cell_type": "code",
   "execution_count": 59,
   "metadata": {},
   "outputs": [
    {
     "data": {
      "text/html": [
       "<div>\n",
       "<style scoped>\n",
       "    .dataframe tbody tr th:only-of-type {\n",
       "        vertical-align: middle;\n",
       "    }\n",
       "\n",
       "    .dataframe tbody tr th {\n",
       "        vertical-align: top;\n",
       "    }\n",
       "\n",
       "    .dataframe thead th {\n",
       "        text-align: right;\n",
       "    }\n",
       "</style>\n",
       "<table border=\"1\" class=\"dataframe\">\n",
       "  <thead>\n",
       "    <tr style=\"text-align: right;\">\n",
       "      <th></th>\n",
       "      <th>App</th>\n",
       "      <th>Category</th>\n",
       "      <th>Rating</th>\n",
       "      <th>Reviews</th>\n",
       "      <th>Size</th>\n",
       "      <th>Installs</th>\n",
       "      <th>Type</th>\n",
       "      <th>Price</th>\n",
       "      <th>Content Rating</th>\n",
       "      <th>Genres</th>\n",
       "      <th>Last Updated</th>\n",
       "      <th>Current Ver</th>\n",
       "      <th>Android Ver</th>\n",
       "    </tr>\n",
       "  </thead>\n",
       "  <tbody>\n",
       "    <tr>\n",
       "      <th>298</th>\n",
       "      <td>Manga Master - Best manga &amp; comic reader</td>\n",
       "      <td>COMICS</td>\n",
       "      <td>4.6</td>\n",
       "      <td>24005</td>\n",
       "      <td>4.9</td>\n",
       "      <td>500000</td>\n",
       "      <td>Free</td>\n",
       "      <td>0.0</td>\n",
       "      <td>Adults only 18+</td>\n",
       "      <td>comics</td>\n",
       "      <td>2018-07-04</td>\n",
       "      <td>1170.0</td>\n",
       "      <td>41.0</td>\n",
       "    </tr>\n",
       "    <tr>\n",
       "      <th>3043</th>\n",
       "      <td>DraftKings - Daily Fantasy Sports</td>\n",
       "      <td>SPORTS</td>\n",
       "      <td>4.5</td>\n",
       "      <td>50017</td>\n",
       "      <td>41.0</td>\n",
       "      <td>1000000</td>\n",
       "      <td>Free</td>\n",
       "      <td>0.0</td>\n",
       "      <td>Adults only 18+</td>\n",
       "      <td>sports</td>\n",
       "      <td>2018-07-24</td>\n",
       "      <td>321324.0</td>\n",
       "      <td>44.0</td>\n",
       "    </tr>\n",
       "    <tr>\n",
       "      <th>6424</th>\n",
       "      <td>Manga Books</td>\n",
       "      <td>COMICS</td>\n",
       "      <td>3.8</td>\n",
       "      <td>7326</td>\n",
       "      <td>-1.0</td>\n",
       "      <td>500000</td>\n",
       "      <td>Free</td>\n",
       "      <td>0.0</td>\n",
       "      <td>Adults only 18+</td>\n",
       "      <td>comics</td>\n",
       "      <td>2018-08-03</td>\n",
       "      <td>NaN</td>\n",
       "      <td>NaN</td>\n",
       "    </tr>\n",
       "  </tbody>\n",
       "</table>\n",
       "</div>"
      ],
      "text/plain": [
       "                                           App Category  Rating  Reviews  \\\n",
       "298   Manga Master - Best manga & comic reader   COMICS     4.6    24005   \n",
       "3043         DraftKings - Daily Fantasy Sports   SPORTS     4.5    50017   \n",
       "6424                               Manga Books   COMICS     3.8     7326   \n",
       "\n",
       "      Size  Installs  Type  Price   Content Rating  Genres Last Updated  \\\n",
       "298    4.9    500000  Free    0.0  Adults only 18+  comics   2018-07-04   \n",
       "3043  41.0   1000000  Free    0.0  Adults only 18+  sports   2018-07-24   \n",
       "6424  -1.0    500000  Free    0.0  Adults only 18+  comics   2018-08-03   \n",
       "\n",
       "      Current Ver  Android Ver  \n",
       "298        1170.0         41.0  \n",
       "3043     321324.0         44.0  \n",
       "6424          NaN          NaN  "
      ]
     },
     "execution_count": 59,
     "metadata": {},
     "output_type": "execute_result"
    }
   ],
   "source": [
    "df[df['Content Rating'] == 'Adults only 18+'].head()"
   ]
  },
  {
   "cell_type": "code",
   "execution_count": 60,
   "metadata": {},
   "outputs": [],
   "source": [
    "df['Content Rating'].replace({'Unrated': 'Everyone',\n",
    "                              'Adults only 18+': 'Mature 17+',\n",
    "                              'Everyone 10+': 'Everyone'}, inplace = True)"
   ]
  },
  {
   "cell_type": "code",
   "execution_count": 61,
   "metadata": {},
   "outputs": [
    {
     "data": {
      "text/html": [
       "<div>\n",
       "<style scoped>\n",
       "    .dataframe tbody tr th:only-of-type {\n",
       "        vertical-align: middle;\n",
       "    }\n",
       "\n",
       "    .dataframe tbody tr th {\n",
       "        vertical-align: top;\n",
       "    }\n",
       "\n",
       "    .dataframe thead th {\n",
       "        text-align: right;\n",
       "    }\n",
       "</style>\n",
       "<table border=\"1\" class=\"dataframe\">\n",
       "  <thead>\n",
       "    <tr style=\"text-align: right;\">\n",
       "      <th></th>\n",
       "      <th>Content Rating</th>\n",
       "    </tr>\n",
       "  </thead>\n",
       "  <tbody>\n",
       "    <tr>\n",
       "      <th>Everyone</th>\n",
       "      <td>8200</td>\n",
       "    </tr>\n",
       "    <tr>\n",
       "      <th>Teen</th>\n",
       "      <td>1033</td>\n",
       "    </tr>\n",
       "    <tr>\n",
       "      <th>Mature 17+</th>\n",
       "      <td>396</td>\n",
       "    </tr>\n",
       "  </tbody>\n",
       "</table>\n",
       "</div>"
      ],
      "text/plain": [
       "            Content Rating\n",
       "Everyone              8200\n",
       "Teen                  1033\n",
       "Mature 17+             396"
      ]
     },
     "execution_count": 61,
     "metadata": {},
     "output_type": "execute_result"
    }
   ],
   "source": [
    "df['Content Rating'].value_counts().to_frame()"
   ]
  },
  {
   "cell_type": "markdown",
   "metadata": {},
   "source": [
    "### Trattamento e Imputazione dei Missing Values: campi Type, Content Rating, Android Ver, Current Ver, Size"
   ]
  },
  {
   "cell_type": "code",
   "execution_count": 62,
   "metadata": {},
   "outputs": [],
   "source": [
    "# fillna\n",
    "df['Type'].fillna('Free', inplace = True)\n",
    "\n",
    "# fillna\n",
    "df['Content Rating'].fillna('Everyone', inplace = True)\n",
    "\n",
    "# impute nan with most frequent strategy\n",
    "cols_imp = ['Android Ver', 'Current Ver', 'Size']\n",
    "simple_imp = SimpleImputer(missing_values=np.nan, strategy='most_frequent')\n",
    "df[cols_imp] = simple_imp.fit_transform(df[cols_imp])"
   ]
  },
  {
   "cell_type": "code",
   "execution_count": 63,
   "metadata": {},
   "outputs": [],
   "source": [
    "#df.to_csv('DATA/pre-processed/clean_app_data.csv',index=False)"
   ]
  }
 ],
 "metadata": {
  "kernelspec": {
   "display_name": "Python 3",
   "language": "python",
   "name": "python3"
  },
  "language_info": {
   "codemirror_mode": {
    "name": "ipython",
    "version": 3
   },
   "file_extension": ".py",
   "mimetype": "text/x-python",
   "name": "python",
   "nbconvert_exporter": "python",
   "pygments_lexer": "ipython3",
   "version": "3.6.12"
  }
 },
 "nbformat": 4,
 "nbformat_minor": 4
}
