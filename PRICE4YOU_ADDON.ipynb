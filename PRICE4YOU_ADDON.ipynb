{
 "cells": [
  {
   "cell_type": "code",
   "execution_count": 30,
   "metadata": {},
   "outputs": [],
   "source": [
    "#Libraries\n",
    "import pandas as pd\n",
    "import plotly\n",
    "import plotly.express as px\n",
    "import plotly.io as pio\n",
    "pio.renderers.default = \"iframe\"\n",
    "import plotly.graph_objects as go"
   ]
  },
  {
   "cell_type": "code",
   "execution_count": 31,
   "metadata": {},
   "outputs": [],
   "source": [
    "###load the 2020 dataset with more information on pricing\n",
    "df=pd.read_csv('DATA/pre-processed/clean_app_data2020.csv')\n"
   ]
  },
  {
   "cell_type": "code",
   "execution_count": 32,
   "metadata": {},
   "outputs": [
    {
     "data": {
      "text/html": [
       "<iframe\n",
       "    scrolling=\"no\"\n",
       "    width=\"100%\"\n",
       "    height=\"545px\"\n",
       "    src=\"iframe_figures/figure_32.html\"\n",
       "    frameborder=\"0\"\n",
       "    allowfullscreen\n",
       "></iframe>\n"
      ]
     },
     "metadata": {},
     "output_type": "display_data"
    }
   ],
   "source": [
    "##Pricing\n",
    "fig = px.pie(names=['Gratis','Pagamento'], \n",
    "             values=df['type'].value_counts().values,\n",
    "             title='App Gratis versus a Pagamento',\n",
    "             color=['Gratis','Pagamento'],\n",
    "             color_discrete_map={\"Gratis\":\"green\",\n",
    "                                 \"Pagamento\":\"goldenrod\"}\n",
    "            )\n",
    "fig.update_traces(textposition='inside', textinfo='percent')\n",
    "fig.show()\n"
   ]
  },
  {
   "cell_type": "markdown",
   "metadata": {},
   "source": [
    "**\"Gratis\"**\n",
    "\n",
    "&#x1F534;Le app gratuite potrebbero prevedere acquisti in app o offrire un upgrade per evitare pubblicità (c.d. modello freemium).\n",
    "\n",
    "&#x1F534; Le app gratuite potrebbero essere temporaneamente gratuite, per poi ad esempio diventare a pagamento raggiunta la massa critica di utenti.\n",
    "\n",
    "&#x1F534; Le app gratuite potrebbero essere mezzi a supporto di un business già esistente (versione mobile di un sito di e-commerce)."
   ]
  },
  {
   "cell_type": "code",
   "execution_count": 33,
   "metadata": {},
   "outputs": [
    {
     "data": {
      "text/html": [
       "<iframe\n",
       "    scrolling=\"no\"\n",
       "    width=\"100%\"\n",
       "    height=\"545px\"\n",
       "    src=\"iframe_figures/figure_33.html\"\n",
       "    frameborder=\"0\"\n",
       "    allowfullscreen\n",
       "></iframe>\n"
      ]
     },
     "metadata": {},
     "output_type": "display_data"
    }
   ],
   "source": [
    "fig = px.pie(names=['Senza Acquisti in App','Con Acquisti in App'], \n",
    "             values=df['inAppPurchase'].value_counts().values,\n",
    "             title='Acquisti in App',\n",
    "             color=['Senza','Con'],\n",
    "             color_discrete_map={\"Senza\":\"green\",\n",
    "                                 \"Con\":\"goldenrod\"}\n",
    "            )\n",
    "fig.update_traces(textposition='inside', textinfo='percent')\n",
    "fig.show()"
   ]
  },
  {
   "cell_type": "code",
   "execution_count": 34,
   "metadata": {},
   "outputs": [
    {
     "data": {
      "text/html": [
       "<iframe\n",
       "    scrolling=\"no\"\n",
       "    width=\"100%\"\n",
       "    height=\"545px\"\n",
       "    src=\"iframe_figures/figure_34.html\"\n",
       "    frameborder=\"0\"\n",
       "    allowfullscreen\n",
       "></iframe>\n"
      ]
     },
     "metadata": {},
     "output_type": "display_data"
    }
   ],
   "source": [
    "fig = px.pie(names=['Pubblicità in App','Senza Pubblicità in App'], \n",
    "             values=df['containsAds'].value_counts().values,\n",
    "             title='Pubblicità',\n",
    "             color=['Senza','Con'],\n",
    "             color_discrete_map={\"Senza\":\"green\",\n",
    "                                 \"Con\":\"goldenrod\"}\n",
    "            )\n",
    "fig.update_traces(textposition='inside', textinfo='percent')\n",
    "fig.show()"
   ]
  },
  {
   "cell_type": "code",
   "execution_count": 35,
   "metadata": {},
   "outputs": [
    {
     "name": "stdout",
     "output_type": "stream",
     "text": [
      "Solo il 62% delle app è gratis senza prevedere acquisti in app o pubblicità.\n"
     ]
    }
   ],
   "source": [
    "print(f\"Solo il {round(len(df[(df.type=='Free')&(df.inAppPurchase=='No')])/len(df)*100)}% delle app è gratis senza prevedere acquisti in app o pubblicità.\")\n"
   ]
  },
  {
   "cell_type": "markdown",
   "metadata": {},
   "source": [
    "App Target per un servizio di dynamic pricing:\n",
    "- Apps con acquisti In-App\n",
    "- Apps che prevedono un costo di scarico\n",
    "- Apps che utilizzano sia acquisti In-App che un prezzo di scarico "
   ]
  },
  {
   "cell_type": "code",
   "execution_count": 36,
   "metadata": {},
   "outputs": [],
   "source": [
    "df_target=df[(df.type=='Paid')|(df.inAppPurchase=='Yes')]"
   ]
  },
  {
   "cell_type": "code",
   "execution_count": 37,
   "metadata": {},
   "outputs": [
    {
     "name": "stdout",
     "output_type": "stream",
     "text": [
      "6570 app sono potenzialmente target per il servizio offerto da PRICE4YOU; circa il 38% del nostro campione.\n"
     ]
    }
   ],
   "source": [
    "print(f\"{len(df_target)} app sono potenzialmente target per il servizio offerto da PRICE4YOU; circa il {round(len(df_target)/len(df)*100)}% del nostro campione.\")"
   ]
  },
  {
   "cell_type": "code",
   "execution_count": null,
   "metadata": {},
   "outputs": [],
   "source": []
  },
  {
   "cell_type": "code",
   "execution_count": 38,
   "metadata": {},
   "outputs": [
    {
     "data": {
      "text/html": [
       "<div>\n",
       "<style scoped>\n",
       "    .dataframe tbody tr th:only-of-type {\n",
       "        vertical-align: middle;\n",
       "    }\n",
       "\n",
       "    .dataframe tbody tr th {\n",
       "        vertical-align: top;\n",
       "    }\n",
       "\n",
       "    .dataframe thead th {\n",
       "        text-align: right;\n",
       "    }\n",
       "</style>\n",
       "<table border=\"1\" class=\"dataframe\">\n",
       "  <thead>\n",
       "    <tr style=\"text-align: right;\">\n",
       "      <th></th>\n",
       "      <th>15957</th>\n",
       "    </tr>\n",
       "  </thead>\n",
       "  <tbody>\n",
       "    <tr>\n",
       "      <th>title</th>\n",
       "      <td>Star Walk 2 - Night Sky View and Stargazing Guide</td>\n",
       "    </tr>\n",
       "    <tr>\n",
       "      <th>minInstalls</th>\n",
       "      <td>100000</td>\n",
       "    </tr>\n",
       "    <tr>\n",
       "      <th>score</th>\n",
       "      <td>5.0</td>\n",
       "    </tr>\n",
       "    <tr>\n",
       "      <th>reviews</th>\n",
       "      <td>6785</td>\n",
       "    </tr>\n",
       "    <tr>\n",
       "      <th>price</th>\n",
       "      <td>2.99</td>\n",
       "    </tr>\n",
       "    <tr>\n",
       "      <th>type</th>\n",
       "      <td>Paid</td>\n",
       "    </tr>\n",
       "    <tr>\n",
       "      <th>currency</th>\n",
       "      <td>USD</td>\n",
       "    </tr>\n",
       "    <tr>\n",
       "      <th>sale</th>\n",
       "      <td>Not Sale</td>\n",
       "    </tr>\n",
       "    <tr>\n",
       "      <th>inAppPurchase</th>\n",
       "      <td>Yes</td>\n",
       "    </tr>\n",
       "    <tr>\n",
       "      <th>size</th>\n",
       "      <td>-1</td>\n",
       "    </tr>\n",
       "    <tr>\n",
       "      <th>androidVersion</th>\n",
       "      <td>44</td>\n",
       "    </tr>\n",
       "    <tr>\n",
       "      <th>developer</th>\n",
       "      <td>Vito Technology</td>\n",
       "    </tr>\n",
       "    <tr>\n",
       "      <th>developerWebsite</th>\n",
       "      <td>https://starwalk.space</td>\n",
       "    </tr>\n",
       "    <tr>\n",
       "      <th>genreId</th>\n",
       "      <td>EDUCATION</td>\n",
       "    </tr>\n",
       "    <tr>\n",
       "      <th>contentRating</th>\n",
       "      <td>Everyone</td>\n",
       "    </tr>\n",
       "    <tr>\n",
       "      <th>containsAds</th>\n",
       "      <td>No</td>\n",
       "    </tr>\n",
       "    <tr>\n",
       "      <th>updated</th>\n",
       "      <td>2020-11-20</td>\n",
       "    </tr>\n",
       "    <tr>\n",
       "      <th>lenDescription</th>\n",
       "      <td>4030</td>\n",
       "    </tr>\n",
       "    <tr>\n",
       "      <th>saleDiscountPerc</th>\n",
       "      <td>0</td>\n",
       "    </tr>\n",
       "    <tr>\n",
       "      <th>inAppPriceMin</th>\n",
       "      <td>0.99</td>\n",
       "    </tr>\n",
       "    <tr>\n",
       "      <th>inAppPriceMax</th>\n",
       "      <td>2.99</td>\n",
       "    </tr>\n",
       "    <tr>\n",
       "      <th>inAppPriceRange</th>\n",
       "      <td>2</td>\n",
       "    </tr>\n",
       "    <tr>\n",
       "      <th>inAppPriceMean</th>\n",
       "      <td>2.495</td>\n",
       "    </tr>\n",
       "    <tr>\n",
       "      <th>videoAvailable</th>\n",
       "      <td>No</td>\n",
       "    </tr>\n",
       "    <tr>\n",
       "      <th>appDaysSinceReleased</th>\n",
       "      <td>2092</td>\n",
       "    </tr>\n",
       "    <tr>\n",
       "      <th>appDaysSinceUpdated</th>\n",
       "      <td>12</td>\n",
       "    </tr>\n",
       "  </tbody>\n",
       "</table>\n",
       "</div>"
      ],
      "text/plain": [
       "                                                                  15957\n",
       "title                 Star Walk 2 - Night Sky View and Stargazing Guide\n",
       "minInstalls                                                      100000\n",
       "score                                                               5.0\n",
       "reviews                                                            6785\n",
       "price                                                              2.99\n",
       "type                                                               Paid\n",
       "currency                                                            USD\n",
       "sale                                                           Not Sale\n",
       "inAppPurchase                                                       Yes\n",
       "size                                                                 -1\n",
       "androidVersion                                                       44\n",
       "developer                                               Vito Technology\n",
       "developerWebsite                                 https://starwalk.space\n",
       "genreId                                                       EDUCATION\n",
       "contentRating                                                  Everyone\n",
       "containsAds                                                          No\n",
       "updated                                                      2020-11-20\n",
       "lenDescription                                                     4030\n",
       "saleDiscountPerc                                                      0\n",
       "inAppPriceMin                                                      0.99\n",
       "inAppPriceMax                                                      2.99\n",
       "inAppPriceRange                                                       2\n",
       "inAppPriceMean                                                    2.495\n",
       "videoAvailable                                                       No\n",
       "appDaysSinceReleased                                               2092\n",
       "appDaysSinceUpdated                                                  12"
      ]
     },
     "execution_count": 38,
     "metadata": {},
     "output_type": "execute_result"
    }
   ],
   "source": [
    "df_target.loc[df_target['title']=='Star Walk 2 - Night Sky View and Stargazing Guide'].T"
   ]
  },
  {
   "cell_type": "code",
   "execution_count": null,
   "metadata": {},
   "outputs": [],
   "source": []
  },
  {
   "cell_type": "code",
   "execution_count": 39,
   "metadata": {},
   "outputs": [
    {
     "data": {
      "text/html": [
       "<div>\n",
       "<style scoped>\n",
       "    .dataframe tbody tr th:only-of-type {\n",
       "        vertical-align: middle;\n",
       "    }\n",
       "\n",
       "    .dataframe tbody tr th {\n",
       "        vertical-align: top;\n",
       "    }\n",
       "\n",
       "    .dataframe thead th {\n",
       "        text-align: right;\n",
       "    }\n",
       "</style>\n",
       "<table border=\"1\" class=\"dataframe\">\n",
       "  <thead>\n",
       "    <tr style=\"text-align: right;\">\n",
       "      <th></th>\n",
       "      <th>0</th>\n",
       "    </tr>\n",
       "  </thead>\n",
       "  <tbody>\n",
       "    <tr>\n",
       "      <th>title</th>\n",
       "      <td>title</td>\n",
       "    </tr>\n",
       "    <tr>\n",
       "      <th>minInstalls</th>\n",
       "      <td>minInstalls</td>\n",
       "    </tr>\n",
       "    <tr>\n",
       "      <th>score</th>\n",
       "      <td>score</td>\n",
       "    </tr>\n",
       "    <tr>\n",
       "      <th>reviews</th>\n",
       "      <td>reviews</td>\n",
       "    </tr>\n",
       "    <tr>\n",
       "      <th>price</th>\n",
       "      <td>price</td>\n",
       "    </tr>\n",
       "    <tr>\n",
       "      <th>type</th>\n",
       "      <td>type</td>\n",
       "    </tr>\n",
       "    <tr>\n",
       "      <th>currency</th>\n",
       "      <td>currency</td>\n",
       "    </tr>\n",
       "    <tr>\n",
       "      <th>sale</th>\n",
       "      <td>sale</td>\n",
       "    </tr>\n",
       "    <tr>\n",
       "      <th>inAppPurchase</th>\n",
       "      <td>inAppPurchase</td>\n",
       "    </tr>\n",
       "    <tr>\n",
       "      <th>size</th>\n",
       "      <td>size</td>\n",
       "    </tr>\n",
       "    <tr>\n",
       "      <th>androidVersion</th>\n",
       "      <td>androidVersion</td>\n",
       "    </tr>\n",
       "    <tr>\n",
       "      <th>developer</th>\n",
       "      <td>developer</td>\n",
       "    </tr>\n",
       "    <tr>\n",
       "      <th>developerWebsite</th>\n",
       "      <td>developerWebsite</td>\n",
       "    </tr>\n",
       "    <tr>\n",
       "      <th>genreId</th>\n",
       "      <td>genreId</td>\n",
       "    </tr>\n",
       "    <tr>\n",
       "      <th>contentRating</th>\n",
       "      <td>contentRating</td>\n",
       "    </tr>\n",
       "    <tr>\n",
       "      <th>containsAds</th>\n",
       "      <td>containsAds</td>\n",
       "    </tr>\n",
       "    <tr>\n",
       "      <th>updated</th>\n",
       "      <td>updated</td>\n",
       "    </tr>\n",
       "    <tr>\n",
       "      <th>lenDescription</th>\n",
       "      <td>lenDescription</td>\n",
       "    </tr>\n",
       "    <tr>\n",
       "      <th>saleDiscountPerc</th>\n",
       "      <td>saleDiscountPerc</td>\n",
       "    </tr>\n",
       "    <tr>\n",
       "      <th>inAppPriceMin</th>\n",
       "      <td>inAppPriceMin</td>\n",
       "    </tr>\n",
       "    <tr>\n",
       "      <th>inAppPriceMax</th>\n",
       "      <td>inAppPriceMax</td>\n",
       "    </tr>\n",
       "    <tr>\n",
       "      <th>inAppPriceRange</th>\n",
       "      <td>inAppPriceRange</td>\n",
       "    </tr>\n",
       "    <tr>\n",
       "      <th>inAppPriceMean</th>\n",
       "      <td>inAppPriceMean</td>\n",
       "    </tr>\n",
       "    <tr>\n",
       "      <th>videoAvailable</th>\n",
       "      <td>videoAvailable</td>\n",
       "    </tr>\n",
       "    <tr>\n",
       "      <th>appDaysSinceReleased</th>\n",
       "      <td>appDaysSinceReleased</td>\n",
       "    </tr>\n",
       "    <tr>\n",
       "      <th>appDaysSinceUpdated</th>\n",
       "      <td>appDaysSinceUpdated</td>\n",
       "    </tr>\n",
       "  </tbody>\n",
       "</table>\n",
       "</div>"
      ],
      "text/plain": [
       "                                         0\n",
       "title                                title\n",
       "minInstalls                    minInstalls\n",
       "score                                score\n",
       "reviews                            reviews\n",
       "price                                price\n",
       "type                                  type\n",
       "currency                          currency\n",
       "sale                                  sale\n",
       "inAppPurchase                inAppPurchase\n",
       "size                                  size\n",
       "androidVersion              androidVersion\n",
       "developer                        developer\n",
       "developerWebsite          developerWebsite\n",
       "genreId                            genreId\n",
       "contentRating                contentRating\n",
       "containsAds                    containsAds\n",
       "updated                            updated\n",
       "lenDescription              lenDescription\n",
       "saleDiscountPerc          saleDiscountPerc\n",
       "inAppPriceMin                inAppPriceMin\n",
       "inAppPriceMax                inAppPriceMax\n",
       "inAppPriceRange            inAppPriceRange\n",
       "inAppPriceMean              inAppPriceMean\n",
       "videoAvailable              videoAvailable\n",
       "appDaysSinceReleased  appDaysSinceReleased\n",
       "appDaysSinceUpdated    appDaysSinceUpdated"
      ]
     },
     "execution_count": 39,
     "metadata": {},
     "output_type": "execute_result"
    }
   ],
   "source": [
    "df.columns.to_frame()"
   ]
  },
  {
   "cell_type": "code",
   "execution_count": null,
   "metadata": {},
   "outputs": [],
   "source": []
  },
  {
   "cell_type": "code",
   "execution_count": null,
   "metadata": {},
   "outputs": [],
   "source": []
  }
 ],
 "metadata": {
  "kernelspec": {
   "display_name": "Python 3",
   "language": "python",
   "name": "python3"
  },
  "language_info": {
   "codemirror_mode": {
    "name": "ipython",
    "version": 3
   },
   "file_extension": ".py",
   "mimetype": "text/x-python",
   "name": "python",
   "nbconvert_exporter": "python",
   "pygments_lexer": "ipython3",
   "version": "3.6.12"
  }
 },
 "nbformat": 4,
 "nbformat_minor": 4
}
